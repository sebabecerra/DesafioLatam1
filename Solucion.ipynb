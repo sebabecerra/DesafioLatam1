{
  "nbformat": 4,
  "nbformat_minor": 0,
  "metadata": {
    "colab": {
      "name": "Solucion.ipynb",
      "provenance": [],
      "collapsed_sections": [],
      "mount_file_id": "1YQ7mNGGFRWuV6oM779lk0MWj3rFL5fkH",
      "authorship_tag": "ABX9TyN1Nk2je7bxBKVjY9BkjGD7",
      "include_colab_link": true
    },
    "kernelspec": {
      "name": "python3",
      "display_name": "Python 3"
    },
    "language_info": {
      "name": "python"
    }
  },
  "cells": [
    {
      "cell_type": "markdown",
      "metadata": {
        "id": "view-in-github",
        "colab_type": "text"
      },
      "source": [
        "<a href=\"https://colab.research.google.com/github/sebabecerra/DesafioLatam1/blob/Desarrollo/Solucion.ipynb\" target=\"_parent\"><img src=\"https://colab.research.google.com/assets/colab-badge.svg\" alt=\"Open In Colab\"/></a>"
      ]
    },
    {
      "cell_type": "code",
      "source": [
        "! git clone https://github.com/sebabecerra/DesafioLatam.git"
      ],
      "metadata": {
        "colab": {
          "base_uri": "https://localhost:8080/"
        },
        "id": "6Ub_ILf9qQ1f",
        "outputId": "a526ca51-5262-43ea-bd69-89e17df81989"
      },
      "execution_count": null,
      "outputs": [
        {
          "output_type": "stream",
          "name": "stdout",
          "text": [
            "Cloning into 'DesafioLatam'...\n",
            "warning: You appear to have cloned an empty repository.\n"
          ]
        }
      ]
    },
    {
      "cell_type": "code",
      "source": [
        "import datetime, warnings, scipy \n",
        "import pandas as pd\n",
        "import numpy as np\n",
        "import seaborn as sns\n",
        "import matplotlib as mpl\n",
        "import matplotlib.pyplot as plt\n",
        "import matplotlib.patches as patches\n",
        "from matplotlib.patches import ConnectionPatch\n",
        "from collections import OrderedDict\n",
        "from matplotlib.gridspec import GridSpec\n",
        "from sklearn import metrics, linear_model\n",
        "from sklearn.preprocessing import PolynomialFeatures, StandardScaler\n",
        "from sklearn.preprocessing import LabelEncoder, OneHotEncoder\n",
        "from sklearn.model_selection import train_test_split, cross_val_score, cross_val_predict\n",
        "from scipy.optimize import curve_fit\n",
        "plt.rcParams[\"patch.force_edgecolor\"] = True\n",
        "plt.style.use('fivethirtyeight')\n",
        "mpl.rc('patch', edgecolor = 'dimgray', linewidth=1)\n",
        "from IPython.core.interactiveshell import InteractiveShell\n",
        "InteractiveShell.ast_node_interactivity = \"last_expr\"\n",
        "pd.options.display.max_columns = 50\n",
        "%matplotlib inline\n",
        "warnings.filterwarnings(\"ignore\")"
      ],
      "metadata": {
        "id": "BGfKqcqBcnzS"
      },
      "execution_count": 2,
      "outputs": []
    },
    {
      "cell_type": "code",
      "execution_count": 118,
      "metadata": {
        "id": "mn69GecarEmD"
      },
      "outputs": [],
      "source": [
        "import pandas as pd\n",
        "import numpy as np\n",
        "df = pd.read_csv ('/content/drive/MyDrive/Challenge - Data Scientist /dataset_SCL.csv')\n"
      ]
    },
    {
      "cell_type": "markdown",
      "source": [
        "##Desafio\n",
        "\n",
        "1. ¿Cómo se distribuyen los datos? ¿Qué te llama la atención o cuál es tu conclusión sobre esto?"
      ],
      "metadata": {
        "id": "b7OK1HRHAJZb"
      }
    },
    {
      "cell_type": "code",
      "source": [
        "print(df.columns)\n",
        "print(df.dtypes)\n",
        "df.tail()"
      ],
      "metadata": {
        "colab": {
          "base_uri": "https://localhost:8080/",
          "height": 605
        },
        "id": "M4xOxBN_SSzd",
        "outputId": "11473fe2-03fb-45ed-a0a5-d0173577674f"
      },
      "execution_count": 119,
      "outputs": [
        {
          "output_type": "stream",
          "name": "stdout",
          "text": [
            "Index(['Fecha-I', 'Vlo-I', 'Ori-I', 'Des-I', 'Emp-I', 'Fecha-O', 'Vlo-O',\n",
            "       'Ori-O', 'Des-O', 'Emp-O', 'DIA', 'MES', 'AÑO', 'DIANOM', 'TIPOVUELO',\n",
            "       'OPERA', 'SIGLAORI', 'SIGLADES'],\n",
            "      dtype='object')\n",
            "Fecha-I      object\n",
            "Vlo-I        object\n",
            "Ori-I        object\n",
            "Des-I        object\n",
            "Emp-I        object\n",
            "Fecha-O      object\n",
            "Vlo-O        object\n",
            "Ori-O        object\n",
            "Des-O        object\n",
            "Emp-O        object\n",
            "DIA           int64\n",
            "MES           int64\n",
            "AÑO           int64\n",
            "DIANOM       object\n",
            "TIPOVUELO    object\n",
            "OPERA        object\n",
            "SIGLAORI     object\n",
            "SIGLADES     object\n",
            "dtype: object\n"
          ]
        },
        {
          "output_type": "execute_result",
          "data": {
            "text/plain": [
              "                   Fecha-I Vlo-I Ori-I Des-I Emp-I              Fecha-O  \\\n",
              "68201  2017-12-22 14:55:00   400  SCEL  SPJC   JAT  2017-12-22 15:41:00   \n",
              "68202  2017-12-25 14:55:00   400  SCEL  SPJC   JAT  2017-12-25 15:11:00   \n",
              "68203  2017-12-27 14:55:00   400  SCEL  SPJC   JAT  2017-12-27 15:35:00   \n",
              "68204  2017-12-29 14:55:00   400  SCEL  SPJC   JAT  2017-12-29 15:08:00   \n",
              "68205  2017-12-31 14:55:00   400  SCEL  SPJC   JAT  2017-12-31 15:04:00   \n",
              "\n",
              "       Vlo-O Ori-O Des-O Emp-O  DIA  MES   AÑO     DIANOM TIPOVUELO  \\\n",
              "68201  400.0  SCEL  SPJC   JAT   22   12  2017    Viernes         I   \n",
              "68202  400.0  SCEL  SPJC   JAT   25   12  2017      Lunes         I   \n",
              "68203  400.0  SCEL  SPJC   JAT   27   12  2017  Miercoles         I   \n",
              "68204  400.0  SCEL  SPJC   JAT   29   12  2017    Viernes         I   \n",
              "68205  400.0  SCEL  SPJC   JAT   31   12  2017    Domingo         I   \n",
              "\n",
              "              OPERA  SIGLAORI SIGLADES  \n",
              "68201  JetSmart SPA  Santiago     Lima  \n",
              "68202  JetSmart SPA  Santiago     Lima  \n",
              "68203  JetSmart SPA  Santiago     Lima  \n",
              "68204  JetSmart SPA  Santiago     Lima  \n",
              "68205  JetSmart SPA  Santiago     Lima  "
            ],
            "text/html": [
              "\n",
              "  <div id=\"df-549b410d-07a8-4ddf-b13c-a6f0e87ede6d\">\n",
              "    <div class=\"colab-df-container\">\n",
              "      <div>\n",
              "<style scoped>\n",
              "    .dataframe tbody tr th:only-of-type {\n",
              "        vertical-align: middle;\n",
              "    }\n",
              "\n",
              "    .dataframe tbody tr th {\n",
              "        vertical-align: top;\n",
              "    }\n",
              "\n",
              "    .dataframe thead th {\n",
              "        text-align: right;\n",
              "    }\n",
              "</style>\n",
              "<table border=\"1\" class=\"dataframe\">\n",
              "  <thead>\n",
              "    <tr style=\"text-align: right;\">\n",
              "      <th></th>\n",
              "      <th>Fecha-I</th>\n",
              "      <th>Vlo-I</th>\n",
              "      <th>Ori-I</th>\n",
              "      <th>Des-I</th>\n",
              "      <th>Emp-I</th>\n",
              "      <th>Fecha-O</th>\n",
              "      <th>Vlo-O</th>\n",
              "      <th>Ori-O</th>\n",
              "      <th>Des-O</th>\n",
              "      <th>Emp-O</th>\n",
              "      <th>DIA</th>\n",
              "      <th>MES</th>\n",
              "      <th>AÑO</th>\n",
              "      <th>DIANOM</th>\n",
              "      <th>TIPOVUELO</th>\n",
              "      <th>OPERA</th>\n",
              "      <th>SIGLAORI</th>\n",
              "      <th>SIGLADES</th>\n",
              "    </tr>\n",
              "  </thead>\n",
              "  <tbody>\n",
              "    <tr>\n",
              "      <th>68201</th>\n",
              "      <td>2017-12-22 14:55:00</td>\n",
              "      <td>400</td>\n",
              "      <td>SCEL</td>\n",
              "      <td>SPJC</td>\n",
              "      <td>JAT</td>\n",
              "      <td>2017-12-22 15:41:00</td>\n",
              "      <td>400.0</td>\n",
              "      <td>SCEL</td>\n",
              "      <td>SPJC</td>\n",
              "      <td>JAT</td>\n",
              "      <td>22</td>\n",
              "      <td>12</td>\n",
              "      <td>2017</td>\n",
              "      <td>Viernes</td>\n",
              "      <td>I</td>\n",
              "      <td>JetSmart SPA</td>\n",
              "      <td>Santiago</td>\n",
              "      <td>Lima</td>\n",
              "    </tr>\n",
              "    <tr>\n",
              "      <th>68202</th>\n",
              "      <td>2017-12-25 14:55:00</td>\n",
              "      <td>400</td>\n",
              "      <td>SCEL</td>\n",
              "      <td>SPJC</td>\n",
              "      <td>JAT</td>\n",
              "      <td>2017-12-25 15:11:00</td>\n",
              "      <td>400.0</td>\n",
              "      <td>SCEL</td>\n",
              "      <td>SPJC</td>\n",
              "      <td>JAT</td>\n",
              "      <td>25</td>\n",
              "      <td>12</td>\n",
              "      <td>2017</td>\n",
              "      <td>Lunes</td>\n",
              "      <td>I</td>\n",
              "      <td>JetSmart SPA</td>\n",
              "      <td>Santiago</td>\n",
              "      <td>Lima</td>\n",
              "    </tr>\n",
              "    <tr>\n",
              "      <th>68203</th>\n",
              "      <td>2017-12-27 14:55:00</td>\n",
              "      <td>400</td>\n",
              "      <td>SCEL</td>\n",
              "      <td>SPJC</td>\n",
              "      <td>JAT</td>\n",
              "      <td>2017-12-27 15:35:00</td>\n",
              "      <td>400.0</td>\n",
              "      <td>SCEL</td>\n",
              "      <td>SPJC</td>\n",
              "      <td>JAT</td>\n",
              "      <td>27</td>\n",
              "      <td>12</td>\n",
              "      <td>2017</td>\n",
              "      <td>Miercoles</td>\n",
              "      <td>I</td>\n",
              "      <td>JetSmart SPA</td>\n",
              "      <td>Santiago</td>\n",
              "      <td>Lima</td>\n",
              "    </tr>\n",
              "    <tr>\n",
              "      <th>68204</th>\n",
              "      <td>2017-12-29 14:55:00</td>\n",
              "      <td>400</td>\n",
              "      <td>SCEL</td>\n",
              "      <td>SPJC</td>\n",
              "      <td>JAT</td>\n",
              "      <td>2017-12-29 15:08:00</td>\n",
              "      <td>400.0</td>\n",
              "      <td>SCEL</td>\n",
              "      <td>SPJC</td>\n",
              "      <td>JAT</td>\n",
              "      <td>29</td>\n",
              "      <td>12</td>\n",
              "      <td>2017</td>\n",
              "      <td>Viernes</td>\n",
              "      <td>I</td>\n",
              "      <td>JetSmart SPA</td>\n",
              "      <td>Santiago</td>\n",
              "      <td>Lima</td>\n",
              "    </tr>\n",
              "    <tr>\n",
              "      <th>68205</th>\n",
              "      <td>2017-12-31 14:55:00</td>\n",
              "      <td>400</td>\n",
              "      <td>SCEL</td>\n",
              "      <td>SPJC</td>\n",
              "      <td>JAT</td>\n",
              "      <td>2017-12-31 15:04:00</td>\n",
              "      <td>400.0</td>\n",
              "      <td>SCEL</td>\n",
              "      <td>SPJC</td>\n",
              "      <td>JAT</td>\n",
              "      <td>31</td>\n",
              "      <td>12</td>\n",
              "      <td>2017</td>\n",
              "      <td>Domingo</td>\n",
              "      <td>I</td>\n",
              "      <td>JetSmart SPA</td>\n",
              "      <td>Santiago</td>\n",
              "      <td>Lima</td>\n",
              "    </tr>\n",
              "  </tbody>\n",
              "</table>\n",
              "</div>\n",
              "      <button class=\"colab-df-convert\" onclick=\"convertToInteractive('df-549b410d-07a8-4ddf-b13c-a6f0e87ede6d')\"\n",
              "              title=\"Convert this dataframe to an interactive table.\"\n",
              "              style=\"display:none;\">\n",
              "        \n",
              "  <svg xmlns=\"http://www.w3.org/2000/svg\" height=\"24px\"viewBox=\"0 0 24 24\"\n",
              "       width=\"24px\">\n",
              "    <path d=\"M0 0h24v24H0V0z\" fill=\"none\"/>\n",
              "    <path d=\"M18.56 5.44l.94 2.06.94-2.06 2.06-.94-2.06-.94-.94-2.06-.94 2.06-2.06.94zm-11 1L8.5 8.5l.94-2.06 2.06-.94-2.06-.94L8.5 2.5l-.94 2.06-2.06.94zm10 10l.94 2.06.94-2.06 2.06-.94-2.06-.94-.94-2.06-.94 2.06-2.06.94z\"/><path d=\"M17.41 7.96l-1.37-1.37c-.4-.4-.92-.59-1.43-.59-.52 0-1.04.2-1.43.59L10.3 9.45l-7.72 7.72c-.78.78-.78 2.05 0 2.83L4 21.41c.39.39.9.59 1.41.59.51 0 1.02-.2 1.41-.59l7.78-7.78 2.81-2.81c.8-.78.8-2.07 0-2.86zM5.41 20L4 18.59l7.72-7.72 1.47 1.35L5.41 20z\"/>\n",
              "  </svg>\n",
              "      </button>\n",
              "      \n",
              "  <style>\n",
              "    .colab-df-container {\n",
              "      display:flex;\n",
              "      flex-wrap:wrap;\n",
              "      gap: 12px;\n",
              "    }\n",
              "\n",
              "    .colab-df-convert {\n",
              "      background-color: #E8F0FE;\n",
              "      border: none;\n",
              "      border-radius: 50%;\n",
              "      cursor: pointer;\n",
              "      display: none;\n",
              "      fill: #1967D2;\n",
              "      height: 32px;\n",
              "      padding: 0 0 0 0;\n",
              "      width: 32px;\n",
              "    }\n",
              "\n",
              "    .colab-df-convert:hover {\n",
              "      background-color: #E2EBFA;\n",
              "      box-shadow: 0px 1px 2px rgba(60, 64, 67, 0.3), 0px 1px 3px 1px rgba(60, 64, 67, 0.15);\n",
              "      fill: #174EA6;\n",
              "    }\n",
              "\n",
              "    [theme=dark] .colab-df-convert {\n",
              "      background-color: #3B4455;\n",
              "      fill: #D2E3FC;\n",
              "    }\n",
              "\n",
              "    [theme=dark] .colab-df-convert:hover {\n",
              "      background-color: #434B5C;\n",
              "      box-shadow: 0px 1px 3px 1px rgba(0, 0, 0, 0.15);\n",
              "      filter: drop-shadow(0px 1px 2px rgba(0, 0, 0, 0.3));\n",
              "      fill: #FFFFFF;\n",
              "    }\n",
              "  </style>\n",
              "\n",
              "      <script>\n",
              "        const buttonEl =\n",
              "          document.querySelector('#df-549b410d-07a8-4ddf-b13c-a6f0e87ede6d button.colab-df-convert');\n",
              "        buttonEl.style.display =\n",
              "          google.colab.kernel.accessAllowed ? 'block' : 'none';\n",
              "\n",
              "        async function convertToInteractive(key) {\n",
              "          const element = document.querySelector('#df-549b410d-07a8-4ddf-b13c-a6f0e87ede6d');\n",
              "          const dataTable =\n",
              "            await google.colab.kernel.invokeFunction('convertToInteractive',\n",
              "                                                     [key], {});\n",
              "          if (!dataTable) return;\n",
              "\n",
              "          const docLinkHtml = 'Like what you see? Visit the ' +\n",
              "            '<a target=\"_blank\" href=https://colab.research.google.com/notebooks/data_table.ipynb>data table notebook</a>'\n",
              "            + ' to learn more about interactive tables.';\n",
              "          element.innerHTML = '';\n",
              "          dataTable['output_type'] = 'display_data';\n",
              "          await google.colab.output.renderOutput(dataTable, element);\n",
              "          const docLink = document.createElement('div');\n",
              "          docLink.innerHTML = docLinkHtml;\n",
              "          element.appendChild(docLink);\n",
              "        }\n",
              "      </script>\n",
              "    </div>\n",
              "  </div>\n",
              "  "
            ]
          },
          "metadata": {},
          "execution_count": 119
        }
      ]
    },
    {
      "cell_type": "code",
      "source": [
        "#distribucion por Cia\n",
        "xcia = df.groupby(['OPERA']).agg({'Fecha-O': 'count'})\n",
        "xcia = xcia.rename({'Fecha-O': 'Numero de Vuelos'}, axis=1)\n",
        "xcia['%'] =(xcia['Numero de Vuelos']/ xcia['Numero de Vuelos'].sum()) * 100\n",
        "xcia.sort_values(by=['Numero de Vuelos'], inplace=True , ascending=False)\n",
        "print(xcia)"
      ],
      "metadata": {
        "colab": {
          "base_uri": "https://localhost:8080/"
        },
        "id": "sHPGqqcMgnUw",
        "outputId": "79b8080f-485f-4082-ede5-8bfc40af31b1"
      },
      "execution_count": 120,
      "outputs": [
        {
          "output_type": "stream",
          "name": "stdout",
          "text": [
            "                          Numero de Vuelos          %\n",
            "OPERA                                                \n",
            "Grupo LATAM                          40892  59.953670\n",
            "Sky Airline                          14298  20.962965\n",
            "Aerolineas Argentinas                 1949   2.857520\n",
            "Copa Air                              1850   2.712371\n",
            "Latin American Wings                  1674   2.454330\n",
            "Avianca                               1152   1.689001\n",
            "JetSmart SPA                          1095   1.605431\n",
            "Gol Trans                              806   1.181714\n",
            "American Airlines                      757   1.109873\n",
            "Air Canada                             565   0.828373\n",
            "Iberia                                 362   0.530745\n",
            "Delta Air                              358   0.524881\n",
            "Air France                             358   0.524881\n",
            "Aeromexico                             351   0.514617\n",
            "United Airlines                        335   0.491159\n",
            "Oceanair Linhas Aereas                 279   0.409055\n",
            "Alitalia                               259   0.379732\n",
            "K.L.M.                                 251   0.368003\n",
            "British Airways                        205   0.300560\n",
            "Qantas Airways                         195   0.285899\n",
            "Lacsa                                   92   0.134885\n",
            "Austral                                 74   0.108495\n",
            "Plus Ultra Lineas Aereas                49   0.071841\n"
          ]
        }
      ]
    },
    {
      "cell_type": "markdown",
      "source": [
        "Llama la atencion que el 70% de los vuelos estan concetrados en el Grupo Latam y en Sky airline."
      ],
      "metadata": {
        "id": "h-Rsxr-nAUmR"
      }
    },
    {
      "cell_type": "code",
      "source": [
        "#distribucion por x dia de la semana\n",
        "xdia = df.groupby(['DIANOM']).agg({'Fecha-O': 'count'})\n",
        "xdia = xdia.rename({'Fecha-O': 'Numero de Vuelos'}, axis=1)\n",
        "xdia['%'] =(xdia['Numero de Vuelos']/ xdia['Numero de Vuelos'].sum()) * 100\n",
        "xdia.sort_values(by=['Numero de Vuelos'], inplace=True , ascending=False)\n",
        "print(xdia)"
      ],
      "metadata": {
        "colab": {
          "base_uri": "https://localhost:8080/"
        },
        "id": "qaV9LuNallWx",
        "outputId": "c581ab1e-2f87-4f8f-9ec0-491a83f73aa9"
      },
      "execution_count": 121,
      "outputs": [
        {
          "output_type": "stream",
          "name": "stdout",
          "text": [
            "           Numero de Vuelos          %\n",
            "DIANOM                                \n",
            "Viernes               10292  15.089582\n",
            "Jueves                10251  15.029470\n",
            "Lunes                 10131  14.853532\n",
            "Domingo                9796  14.362373\n",
            "Miercoles              9722  14.253878\n",
            "Martes                 9662  14.165909\n",
            "Sabado                 8352  12.245257\n"
          ]
        }
      ]
    },
    {
      "cell_type": "code",
      "source": [
        "#distribucion por x Origen\n",
        "xorigen = df.groupby(['Ori-O']).agg({'Fecha-O': 'count'})\n",
        "xorigen = xorigen.rename({'Fecha-O': 'Numero de Vuelos'}, axis=1)\n",
        "xorigen['%'] =(xorigen['Numero de Vuelos']/ xorigen['Numero de Vuelos'].sum()) * 100\n",
        "xorigen.sort_values(by=['Numero de Vuelos'], inplace=True , ascending=False)\n",
        "print(xorigen)"
      ],
      "metadata": {
        "colab": {
          "base_uri": "https://localhost:8080/"
        },
        "id": "F21EWIn5mUTa",
        "outputId": "8082881a-2a29-44af-d8ac-8c341cc2e6f0"
      },
      "execution_count": 122,
      "outputs": [
        {
          "output_type": "stream",
          "name": "stdout",
          "text": [
            "       Numero de Vuelos      %\n",
            "Ori-O                         \n",
            "SCEL              68206  100.0\n"
          ]
        }
      ]
    },
    {
      "cell_type": "code",
      "source": [
        "#distribucion por x Destino\n",
        "pd.set_option('max_rows', 99999)\n",
        "xdestino = df.groupby(['Des-O']).agg({'Fecha-O': 'count'})\n",
        "xdestino = xdestino.rename({'Fecha-O': 'Numero de Vuelos'}, axis=1)\n",
        "xdestino['%'] =(xdestino['Numero de Vuelos']/ xdestino['Numero de Vuelos'].sum()) * 100\n",
        "xdestino.sort_values(by=['Numero de Vuelos'], inplace=True , ascending=False)\n",
        "print(xdestino.head(10))"
      ],
      "metadata": {
        "id": "gLjOnm5fmi9X",
        "colab": {
          "base_uri": "https://localhost:8080/"
        },
        "outputId": "b41313cf-212f-453c-b663-f193721bc1e4"
      },
      "execution_count": 123,
      "outputs": [
        {
          "output_type": "stream",
          "name": "stdout",
          "text": [
            "       Numero de Vuelos         %\n",
            "Des-O                            \n",
            "SCFA               5786  8.483125\n",
            "SPJC               5270  7.726593\n",
            "SCCF               5146  7.544791\n",
            "SCTE               4357  6.388001\n",
            "SCIE               3993  5.854324\n",
            "SCDA               3747  5.493652\n",
            "SBGR               3569  5.232677\n",
            "SAEZ               3241  4.751781\n",
            "SABE               3094  4.536258\n",
            "SCQP               2589  3.795854\n"
          ]
        }
      ]
    },
    {
      "cell_type": "code",
      "source": [
        "#distribucion por x Anio\n",
        "pd.set_option('max_rows', 99999)\n",
        "xanio = df.groupby(['AÑO']).agg({'Fecha-O': 'count'})\n",
        "xanio = xanio.rename({'Fecha-O': 'Numero de Vuelos'}, axis=1)\n",
        "xanio['%'] =(xanio['Numero de Vuelos']/ xanio['Numero de Vuelos'].sum()) * 100\n",
        "xanio.sort_values(by=['Numero de Vuelos'], inplace=True , ascending=False)\n",
        "print(xanio)"
      ],
      "metadata": {
        "colab": {
          "base_uri": "https://localhost:8080/"
        },
        "id": "ny8iXhqkoe1T",
        "outputId": "f673fa63-f5e4-4ac0-d0c9-faae583be489"
      },
      "execution_count": 124,
      "outputs": [
        {
          "output_type": "stream",
          "name": "stdout",
          "text": [
            "      Numero de Vuelos          %\n",
            "AÑO                              \n",
            "2017             68204  99.997068\n",
            "2018                 2   0.002932\n"
          ]
        }
      ]
    },
    {
      "cell_type": "code",
      "source": [
        "#distribucion por x meses\n",
        "pd.set_option('max_rows', 99999)\n",
        "xanio = df.groupby(['MES']).agg({'Fecha-O': 'count'})\n",
        "xanio = xanio.rename({'Fecha-O': 'Numero de Vuelos'}, axis=1)\n",
        "xanio['%'] =(xanio['Numero de Vuelos']/ xanio['Numero de Vuelos'].sum()) * 100\n",
        "xanio.sort_values(by=['Numero de Vuelos'], inplace=True , ascending=False)\n",
        "print(xanio)"
      ],
      "metadata": {
        "colab": {
          "base_uri": "https://localhost:8080/"
        },
        "id": "_sKd2pIYoepI",
        "outputId": "49d2893f-5f45-45d4-cd35-7b56105565e8"
      },
      "execution_count": 125,
      "outputs": [
        {
          "output_type": "stream",
          "name": "stdout",
          "text": [
            "     Numero de Vuelos         %\n",
            "MES                            \n",
            "12               6356  9.318828\n",
            "1                6108  8.955224\n",
            "11               6080  8.914172\n",
            "10               6032  8.843797\n",
            "7                5992  8.785151\n",
            "8                5744  8.421546\n",
            "9                5610  8.225083\n",
            "2                5561  8.153242\n",
            "3                5482  8.037416\n",
            "5                5240  7.682609\n",
            "4                5020  7.360056\n",
            "6                4981  7.302877\n"
          ]
        }
      ]
    },
    {
      "cell_type": "code",
      "source": [
        "#Format date\n",
        "df['date'] = pd.to_datetime(df['Fecha-I']).dt.strftime('%Y-%m-%d')"
      ],
      "metadata": {
        "id": "uwqJdsyFhkZY"
      },
      "execution_count": 126,
      "outputs": []
    },
    {
      "cell_type": "code",
      "source": [
        "#distribucion por x fecha\n",
        "pd.set_option('max_rows', 9999999)\n",
        "df['date'] = pd.to_datetime(df['Fecha-I']).dt.strftime('%Y-%m-%d')\n",
        "xfecha = df.groupby(['date']).agg({'Fecha-O': 'count'})\n",
        "xfecha = xfecha.rename({'Fecha-O': 'N_Vuelos'}, axis=1)\n",
        "xfecha['%'] =(xfecha['N_Vuelos']/ xfecha['N_Vuelos'].sum()) * 100\n",
        "xfecha.sort_values(by=['date'], inplace=True , ascending=True)\n",
        "print(xfecha.head(10))"
      ],
      "metadata": {
        "id": "YsvD7KHjC41d",
        "colab": {
          "base_uri": "https://localhost:8080/"
        },
        "outputId": "c00ce73b-eb39-4cb1-ece2-52baa3ad1b50"
      },
      "execution_count": 127,
      "outputs": [
        {
          "output_type": "stream",
          "name": "stdout",
          "text": [
            "            N_Vuelos         %\n",
            "date                          \n",
            "2017-01-01       170  0.249245\n",
            "2017-01-02       198  0.290297\n",
            "2017-01-03       195  0.285899\n",
            "2017-01-04       193  0.282966\n",
            "2017-01-05       196  0.287365\n",
            "2017-01-06       199  0.291763\n",
            "2017-01-07       176  0.258042\n",
            "2017-01-08       197  0.288831\n",
            "2017-01-09       206  0.302026\n",
            "2017-01-10       193  0.282966\n"
          ]
        }
      ]
    },
    {
      "cell_type": "code",
      "source": [
        "# Let's make sure 'date' is actually a date in pandas\n",
        "xfecha['fecha'] = xfecha.index\n",
        "xfecha[\"fecha\"] = pd.to_datetime(xfecha[\"fecha\"])\n",
        "date = xfecha[\"fecha\"]\n",
        "value = xfecha[\"N_Vuelos\"]\n",
        "fig, ax = plt.subplots(figsize=(12, 6))\n",
        "ax.plot(date, value)\n",
        "plt.xlabel(\"Fecha\")\n",
        "plt.title(\"Numero de Vuelos por Dia\", loc = 'left')\n",
        "plt.ylim(50,250)"
      ],
      "metadata": {
        "colab": {
          "base_uri": "https://localhost:8080/",
          "height": 422
        },
        "id": "600lLNYPeRnO",
        "outputId": "ac526939-41b9-4f24-f289-c6192960d61c"
      },
      "execution_count": 128,
      "outputs": [
        {
          "output_type": "execute_result",
          "data": {
            "text/plain": [
              "(50.0, 250.0)"
            ]
          },
          "metadata": {},
          "execution_count": 128
        },
        {
          "output_type": "display_data",
          "data": {
            "text/plain": [
              "<Figure size 864x432 with 1 Axes>"
            ],
            "image/png": "[encoded data removed]"
          },
          "metadata": {
            "needs_background": "light"
          }
        }
      ]
    },
    {
      "cell_type": "markdown",
      "source": [
        "\n",
        "\n",
        "1.   Llama la atencion que el 70% de los vuelos estan concetrados en el Grupo Latam y en Sky airline.\n",
        "2.   La distribucion por dia muestra que, en general, todos los dias tienen practicamente el mismo numero de vuelos. Sin embargo, es algo mayor los dias Jueves, Viernes y Lunes. El dia que registra la menos concetracion son los Sabados.\n",
        "3. Todos los vuelos tioenen como origen SCEL.\n",
        "4, Por destino la distribucion es mas homogena. Sin embargo, los tres primncipales destino son SCFA (Antofagasta), SPJC (Peru) y SCCF (Calama) respectivamente. \n",
        "4. La totalidad de los vuelos corresponden al 2017. Existen solo dois vuelos para el 2018.\n",
        "5. Por meses del anio, los vuelos paracen tener una diostribucion homogenea.\n",
        "Sin embargo los meses que acumalan marginalmente mas vuelos son Diciembre, Enero y Noviembre"
      ],
      "metadata": {
        "id": "mFI_5CtmAfiE"
      }
    },
    {
      "cell_type": "markdown",
      "source": [
        "## 2. Genera las columnas adicionales y luego expórtelas en un archivo synthetic_features.csv :\n",
        "\n",
        "1. temporada_alta : 1 si Fecha-I está entre 15-Dic y 3-Mar, o 15-Jul y 31-Jul, o 11-Sep y 30-Sep, 0 si no.\n",
        "2. dif_min : diferencia en minutos entre Fecha-O y Fecha-I .\n",
        "3. atraso_15 : 1 si dif_min > 15, 0 si no.\n",
        "4. periodo_dia : mañana (entre 5:00 y 11:59), tarde (entre 12:00 y 18:59) y noche (entre 19:00 y 4:59), en base a\n",
        "Fecha-I .\n"
      ],
      "metadata": {
        "id": "tUpA3Lzg3xH4"
      }
    },
    {
      "cell_type": "code",
      "source": [
        "#Temporada Alta Julio\n",
        "df['Temporada_Alta'] =  np.where(((df.date >= '2017-07-15') & (df.date <= '2017-07-31')) |\n",
        "                          ((df.date >= '2017-09-11') & (df.date <= '2017-09-30')) |\n",
        "                          ((df.date >= '2017-12-15') & (df.date <= '2018-03-03')) , 1, 0)"
      ],
      "metadata": {
        "id": "psSXmjUG0zGQ"
      },
      "execution_count": 129,
      "outputs": []
    },
    {
      "cell_type": "code",
      "source": [
        "df['Fecha-I'] = pd.to_datetime(df['Fecha-I'], format='%Y-%m-%d %H:%M:%S')\n",
        "df['Fecha-O'] = pd.to_datetime(df['Fecha-O'], format='%Y-%m-%d %H:%M:%S')\n",
        "df['dif_min'] =(df['Fecha-O']-df['Fecha-I']).dt.total_seconds() / 60\n",
        "df['atraso_15'] =np.where(df.dif_min > 15,1,0)"
      ],
      "metadata": {
        "id": "WbGIZW_o2iaX"
      },
      "execution_count": 130,
      "outputs": []
    },
    {
      "cell_type": "code",
      "source": [
        "df['Hora']=pd.to_datetime(df['Fecha-I']).dt.hour"
      ],
      "metadata": {
        "id": "YHhwu4oS_0aW"
      },
      "execution_count": 131,
      "outputs": []
    },
    {
      "cell_type": "code",
      "source": [
        "conditions = [\n",
        "   (df['Hora'] >= 5) & (df['Hora'] < 12),\n",
        "   (df['Hora'] >= 12) & (df['Hora'] < 19),\n",
        "   (df['Hora'] < 5) | (df['Hora'] >=19)\n",
        "]\n",
        "choices = [\"manana\", \"tarde\", \"noche\"]"
      ],
      "metadata": {
        "id": "JQHtvynb6WTj"
      },
      "execution_count": 132,
      "outputs": []
    },
    {
      "cell_type": "code",
      "source": [
        "df['periodo_dia'] = np.select(conditions, choices)"
      ],
      "metadata": {
        "id": "3fxbuZcF4zCB"
      },
      "execution_count": 133,
      "outputs": []
    },
    {
      "cell_type": "code",
      "source": [
        "df=df.drop([\"Hora\"], axis=1)\n",
        "df.to_csv('synthetic_features.csv')"
      ],
      "metadata": {
        "id": "x3ArgaKgin70"
      },
      "execution_count": 134,
      "outputs": []
    },
    {
      "cell_type": "code",
      "source": [
        "df.tail(10)"
      ],
      "metadata": {
        "id": "uZf5SdHpiEwG",
        "colab": {
          "base_uri": "https://localhost:8080/",
          "height": 791
        },
        "outputId": "518dcb95-df17-4c59-815e-08ebc7fce456"
      },
      "execution_count": 135,
      "outputs": [
        {
          "output_type": "execute_result",
          "data": {
            "text/plain": [
              "                  Fecha-I Vlo-I Ori-I Des-I Emp-I             Fecha-O  Vlo-O  \\\n",
              "68196 2017-12-25 20:11:00   305  SCEL  SCCI   JAT 2017-12-25 20:13:00  305.0   \n",
              "68197 2017-12-30 04:05:00   305  SCEL  SCCI   JAT 2017-12-30 04:00:00  305.0   \n",
              "68198 2017-12-22 18:30:00   307  SCEL  SCCI   JAT 2017-12-22 18:47:00  307.0   \n",
              "68199 2017-12-29 18:30:00   307  SCEL  SCCI   JAT 2017-12-29 18:31:00  307.0   \n",
              "68200 2017-12-20 14:55:00   400  SCEL  SPJC   JAT 2017-12-20 15:11:00  400.0   \n",
              "68201 2017-12-22 14:55:00   400  SCEL  SPJC   JAT 2017-12-22 15:41:00  400.0   \n",
              "68202 2017-12-25 14:55:00   400  SCEL  SPJC   JAT 2017-12-25 15:11:00  400.0   \n",
              "68203 2017-12-27 14:55:00   400  SCEL  SPJC   JAT 2017-12-27 15:35:00  400.0   \n",
              "68204 2017-12-29 14:55:00   400  SCEL  SPJC   JAT 2017-12-29 15:08:00  400.0   \n",
              "68205 2017-12-31 14:55:00   400  SCEL  SPJC   JAT 2017-12-31 15:04:00  400.0   \n",
              "\n",
              "      Ori-O Des-O Emp-O  DIA  MES   AÑO     DIANOM TIPOVUELO         OPERA  \\\n",
              "68196  SCEL  SCCI   JAT   25   12  2017      Lunes         N  JetSmart SPA   \n",
              "68197  SCEL  SCCI   JAT   30   12  2017     Sabado         N  JetSmart SPA   \n",
              "68198  SCEL  SCCI   JAT   22   12  2017    Viernes         N  JetSmart SPA   \n",
              "68199  SCEL  SCCI   JAT   29   12  2017    Viernes         N  JetSmart SPA   \n",
              "68200  SCEL  SPJC   JAT   20   12  2017  Miercoles         I  JetSmart SPA   \n",
              "68201  SCEL  SPJC   JAT   22   12  2017    Viernes         I  JetSmart SPA   \n",
              "68202  SCEL  SPJC   JAT   25   12  2017      Lunes         I  JetSmart SPA   \n",
              "68203  SCEL  SPJC   JAT   27   12  2017  Miercoles         I  JetSmart SPA   \n",
              "68204  SCEL  SPJC   JAT   29   12  2017    Viernes         I  JetSmart SPA   \n",
              "68205  SCEL  SPJC   JAT   31   12  2017    Domingo         I  JetSmart SPA   \n",
              "\n",
              "       SIGLAORI      SIGLADES        date  Temporada_Alta  dif_min  atraso_15  \\\n",
              "68196  Santiago  Punta Arenas  2017-12-25               1      2.0          0   \n",
              "68197  Santiago  Punta Arenas  2017-12-30               1     -5.0          0   \n",
              "68198  Santiago  Punta Arenas  2017-12-22               1     17.0          1   \n",
              "68199  Santiago  Punta Arenas  2017-12-29               1      1.0          0   \n",
              "68200  Santiago          Lima  2017-12-20               1     16.0          1   \n",
              "68201  Santiago          Lima  2017-12-22               1     46.0          1   \n",
              "68202  Santiago          Lima  2017-12-25               1     16.0          1   \n",
              "68203  Santiago          Lima  2017-12-27               1     40.0          1   \n",
              "68204  Santiago          Lima  2017-12-29               1     13.0          0   \n",
              "68205  Santiago          Lima  2017-12-31               1      9.0          0   \n",
              "\n",
              "      periodo_dia  \n",
              "68196       noche  \n",
              "68197       noche  \n",
              "68198       tarde  \n",
              "68199       tarde  \n",
              "68200       tarde  \n",
              "68201       tarde  \n",
              "68202       tarde  \n",
              "68203       tarde  \n",
              "68204       tarde  \n",
              "68205       tarde  "
            ],
            "text/html": [
              "\n",
              "  <div id=\"df-bcbac941-797e-4668-bb34-105df591b5bf\">\n",
              "    <div class=\"colab-df-container\">\n",
              "      <div>\n",
              "<style scoped>\n",
              "    .dataframe tbody tr th:only-of-type {\n",
              "        vertical-align: middle;\n",
              "    }\n",
              "\n",
              "    .dataframe tbody tr th {\n",
              "        vertical-align: top;\n",
              "    }\n",
              "\n",
              "    .dataframe thead th {\n",
              "        text-align: right;\n",
              "    }\n",
              "</style>\n",
              "<table border=\"1\" class=\"dataframe\">\n",
              "  <thead>\n",
              "    <tr style=\"text-align: right;\">\n",
              "      <th></th>\n",
              "      <th>Fecha-I</th>\n",
              "      <th>Vlo-I</th>\n",
              "      <th>Ori-I</th>\n",
              "      <th>Des-I</th>\n",
              "      <th>Emp-I</th>\n",
              "      <th>Fecha-O</th>\n",
              "      <th>Vlo-O</th>\n",
              "      <th>Ori-O</th>\n",
              "      <th>Des-O</th>\n",
              "      <th>Emp-O</th>\n",
              "      <th>DIA</th>\n",
              "      <th>MES</th>\n",
              "      <th>AÑO</th>\n",
              "      <th>DIANOM</th>\n",
              "      <th>TIPOVUELO</th>\n",
              "      <th>OPERA</th>\n",
              "      <th>SIGLAORI</th>\n",
              "      <th>SIGLADES</th>\n",
              "      <th>date</th>\n",
              "      <th>Temporada_Alta</th>\n",
              "      <th>dif_min</th>\n",
              "      <th>atraso_15</th>\n",
              "      <th>periodo_dia</th>\n",
              "    </tr>\n",
              "  </thead>\n",
              "  <tbody>\n",
              "    <tr>\n",
              "      <th>68196</th>\n",
              "      <td>2017-12-25 20:11:00</td>\n",
              "      <td>305</td>\n",
              "      <td>SCEL</td>\n",
              "      <td>SCCI</td>\n",
              "      <td>JAT</td>\n",
              "      <td>2017-12-25 20:13:00</td>\n",
              "      <td>305.0</td>\n",
              "      <td>SCEL</td>\n",
              "      <td>SCCI</td>\n",
              "      <td>JAT</td>\n",
              "      <td>25</td>\n",
              "      <td>12</td>\n",
              "      <td>2017</td>\n",
              "      <td>Lunes</td>\n",
              "      <td>N</td>\n",
              "      <td>JetSmart SPA</td>\n",
              "      <td>Santiago</td>\n",
              "      <td>Punta Arenas</td>\n",
              "      <td>2017-12-25</td>\n",
              "      <td>1</td>\n",
              "      <td>2.0</td>\n",
              "      <td>0</td>\n",
              "      <td>noche</td>\n",
              "    </tr>\n",
              "    <tr>\n",
              "      <th>68197</th>\n",
              "      <td>2017-12-30 04:05:00</td>\n",
              "      <td>305</td>\n",
              "      <td>SCEL</td>\n",
              "      <td>SCCI</td>\n",
              "      <td>JAT</td>\n",
              "      <td>2017-12-30 04:00:00</td>\n",
              "      <td>305.0</td>\n",
              "      <td>SCEL</td>\n",
              "      <td>SCCI</td>\n",
              "      <td>JAT</td>\n",
              "      <td>30</td>\n",
              "      <td>12</td>\n",
              "      <td>2017</td>\n",
              "      <td>Sabado</td>\n",
              "      <td>N</td>\n",
              "      <td>JetSmart SPA</td>\n",
              "      <td>Santiago</td>\n",
              "      <td>Punta Arenas</td>\n",
              "      <td>2017-12-30</td>\n",
              "      <td>1</td>\n",
              "      <td>-5.0</td>\n",
              "      <td>0</td>\n",
              "      <td>noche</td>\n",
              "    </tr>\n",
              "    <tr>\n",
              "      <th>68198</th>\n",
              "      <td>2017-12-22 18:30:00</td>\n",
              "      <td>307</td>\n",
              "      <td>SCEL</td>\n",
              "      <td>SCCI</td>\n",
              "      <td>JAT</td>\n",
              "      <td>2017-12-22 18:47:00</td>\n",
              "      <td>307.0</td>\n",
              "      <td>SCEL</td>\n",
              "      <td>SCCI</td>\n",
              "      <td>JAT</td>\n",
              "      <td>22</td>\n",
              "      <td>12</td>\n",
              "      <td>2017</td>\n",
              "      <td>Viernes</td>\n",
              "      <td>N</td>\n",
              "      <td>JetSmart SPA</td>\n",
              "      <td>Santiago</td>\n",
              "      <td>Punta Arenas</td>\n",
              "      <td>2017-12-22</td>\n",
              "      <td>1</td>\n",
              "      <td>17.0</td>\n",
              "      <td>1</td>\n",
              "      <td>tarde</td>\n",
              "    </tr>\n",
              "    <tr>\n",
              "      <th>68199</th>\n",
              "      <td>2017-12-29 18:30:00</td>\n",
              "      <td>307</td>\n",
              "      <td>SCEL</td>\n",
              "      <td>SCCI</td>\n",
              "      <td>JAT</td>\n",
              "      <td>2017-12-29 18:31:00</td>\n",
              "      <td>307.0</td>\n",
              "      <td>SCEL</td>\n",
              "      <td>SCCI</td>\n",
              "      <td>JAT</td>\n",
              "      <td>29</td>\n",
              "      <td>12</td>\n",
              "      <td>2017</td>\n",
              "      <td>Viernes</td>\n",
              "      <td>N</td>\n",
              "      <td>JetSmart SPA</td>\n",
              "      <td>Santiago</td>\n",
              "      <td>Punta Arenas</td>\n",
              "      <td>2017-12-29</td>\n",
              "      <td>1</td>\n",
              "      <td>1.0</td>\n",
              "      <td>0</td>\n",
              "      <td>tarde</td>\n",
              "    </tr>\n",
              "    <tr>\n",
              "      <th>68200</th>\n",
              "      <td>2017-12-20 14:55:00</td>\n",
              "      <td>400</td>\n",
              "      <td>SCEL</td>\n",
              "      <td>SPJC</td>\n",
              "      <td>JAT</td>\n",
              "      <td>2017-12-20 15:11:00</td>\n",
              "      <td>400.0</td>\n",
              "      <td>SCEL</td>\n",
              "      <td>SPJC</td>\n",
              "      <td>JAT</td>\n",
              "      <td>20</td>\n",
              "      <td>12</td>\n",
              "      <td>2017</td>\n",
              "      <td>Miercoles</td>\n",
              "      <td>I</td>\n",
              "      <td>JetSmart SPA</td>\n",
              "      <td>Santiago</td>\n",
              "      <td>Lima</td>\n",
              "      <td>2017-12-20</td>\n",
              "      <td>1</td>\n",
              "      <td>16.0</td>\n",
              "      <td>1</td>\n",
              "      <td>tarde</td>\n",
              "    </tr>\n",
              "    <tr>\n",
              "      <th>68201</th>\n",
              "      <td>2017-12-22 14:55:00</td>\n",
              "      <td>400</td>\n",
              "      <td>SCEL</td>\n",
              "      <td>SPJC</td>\n",
              "      <td>JAT</td>\n",
              "      <td>2017-12-22 15:41:00</td>\n",
              "      <td>400.0</td>\n",
              "      <td>SCEL</td>\n",
              "      <td>SPJC</td>\n",
              "      <td>JAT</td>\n",
              "      <td>22</td>\n",
              "      <td>12</td>\n",
              "      <td>2017</td>\n",
              "      <td>Viernes</td>\n",
              "      <td>I</td>\n",
              "      <td>JetSmart SPA</td>\n",
              "      <td>Santiago</td>\n",
              "      <td>Lima</td>\n",
              "      <td>2017-12-22</td>\n",
              "      <td>1</td>\n",
              "      <td>46.0</td>\n",
              "      <td>1</td>\n",
              "      <td>tarde</td>\n",
              "    </tr>\n",
              "    <tr>\n",
              "      <th>68202</th>\n",
              "      <td>2017-12-25 14:55:00</td>\n",
              "      <td>400</td>\n",
              "      <td>SCEL</td>\n",
              "      <td>SPJC</td>\n",
              "      <td>JAT</td>\n",
              "      <td>2017-12-25 15:11:00</td>\n",
              "      <td>400.0</td>\n",
              "      <td>SCEL</td>\n",
              "      <td>SPJC</td>\n",
              "      <td>JAT</td>\n",
              "      <td>25</td>\n",
              "      <td>12</td>\n",
              "      <td>2017</td>\n",
              "      <td>Lunes</td>\n",
              "      <td>I</td>\n",
              "      <td>JetSmart SPA</td>\n",
              "      <td>Santiago</td>\n",
              "      <td>Lima</td>\n",
              "      <td>2017-12-25</td>\n",
              "      <td>1</td>\n",
              "      <td>16.0</td>\n",
              "      <td>1</td>\n",
              "      <td>tarde</td>\n",
              "    </tr>\n",
              "    <tr>\n",
              "      <th>68203</th>\n",
              "      <td>2017-12-27 14:55:00</td>\n",
              "      <td>400</td>\n",
              "      <td>SCEL</td>\n",
              "      <td>SPJC</td>\n",
              "      <td>JAT</td>\n",
              "      <td>2017-12-27 15:35:00</td>\n",
              "      <td>400.0</td>\n",
              "      <td>SCEL</td>\n",
              "      <td>SPJC</td>\n",
              "      <td>JAT</td>\n",
              "      <td>27</td>\n",
              "      <td>12</td>\n",
              "      <td>2017</td>\n",
              "      <td>Miercoles</td>\n",
              "      <td>I</td>\n",
              "      <td>JetSmart SPA</td>\n",
              "      <td>Santiago</td>\n",
              "      <td>Lima</td>\n",
              "      <td>2017-12-27</td>\n",
              "      <td>1</td>\n",
              "      <td>40.0</td>\n",
              "      <td>1</td>\n",
              "      <td>tarde</td>\n",
              "    </tr>\n",
              "    <tr>\n",
              "      <th>68204</th>\n",
              "      <td>2017-12-29 14:55:00</td>\n",
              "      <td>400</td>\n",
              "      <td>SCEL</td>\n",
              "      <td>SPJC</td>\n",
              "      <td>JAT</td>\n",
              "      <td>2017-12-29 15:08:00</td>\n",
              "      <td>400.0</td>\n",
              "      <td>SCEL</td>\n",
              "      <td>SPJC</td>\n",
              "      <td>JAT</td>\n",
              "      <td>29</td>\n",
              "      <td>12</td>\n",
              "      <td>2017</td>\n",
              "      <td>Viernes</td>\n",
              "      <td>I</td>\n",
              "      <td>JetSmart SPA</td>\n",
              "      <td>Santiago</td>\n",
              "      <td>Lima</td>\n",
              "      <td>2017-12-29</td>\n",
              "      <td>1</td>\n",
              "      <td>13.0</td>\n",
              "      <td>0</td>\n",
              "      <td>tarde</td>\n",
              "    </tr>\n",
              "    <tr>\n",
              "      <th>68205</th>\n",
              "      <td>2017-12-31 14:55:00</td>\n",
              "      <td>400</td>\n",
              "      <td>SCEL</td>\n",
              "      <td>SPJC</td>\n",
              "      <td>JAT</td>\n",
              "      <td>2017-12-31 15:04:00</td>\n",
              "      <td>400.0</td>\n",
              "      <td>SCEL</td>\n",
              "      <td>SPJC</td>\n",
              "      <td>JAT</td>\n",
              "      <td>31</td>\n",
              "      <td>12</td>\n",
              "      <td>2017</td>\n",
              "      <td>Domingo</td>\n",
              "      <td>I</td>\n",
              "      <td>JetSmart SPA</td>\n",
              "      <td>Santiago</td>\n",
              "      <td>Lima</td>\n",
              "      <td>2017-12-31</td>\n",
              "      <td>1</td>\n",
              "      <td>9.0</td>\n",
              "      <td>0</td>\n",
              "      <td>tarde</td>\n",
              "    </tr>\n",
              "  </tbody>\n",
              "</table>\n",
              "</div>\n",
              "      <button class=\"colab-df-convert\" onclick=\"convertToInteractive('df-bcbac941-797e-4668-bb34-105df591b5bf')\"\n",
              "              title=\"Convert this dataframe to an interactive table.\"\n",
              "              style=\"display:none;\">\n",
              "        \n",
              "  <svg xmlns=\"http://www.w3.org/2000/svg\" height=\"24px\"viewBox=\"0 0 24 24\"\n",
              "       width=\"24px\">\n",
              "    <path d=\"M0 0h24v24H0V0z\" fill=\"none\"/>\n",
              "    <path d=\"M18.56 5.44l.94 2.06.94-2.06 2.06-.94-2.06-.94-.94-2.06-.94 2.06-2.06.94zm-11 1L8.5 8.5l.94-2.06 2.06-.94-2.06-.94L8.5 2.5l-.94 2.06-2.06.94zm10 10l.94 2.06.94-2.06 2.06-.94-2.06-.94-.94-2.06-.94 2.06-2.06.94z\"/><path d=\"M17.41 7.96l-1.37-1.37c-.4-.4-.92-.59-1.43-.59-.52 0-1.04.2-1.43.59L10.3 9.45l-7.72 7.72c-.78.78-.78 2.05 0 2.83L4 21.41c.39.39.9.59 1.41.59.51 0 1.02-.2 1.41-.59l7.78-7.78 2.81-2.81c.8-.78.8-2.07 0-2.86zM5.41 20L4 18.59l7.72-7.72 1.47 1.35L5.41 20z\"/>\n",
              "  </svg>\n",
              "      </button>\n",
              "      \n",
              "  <style>\n",
              "    .colab-df-container {\n",
              "      display:flex;\n",
              "      flex-wrap:wrap;\n",
              "      gap: 12px;\n",
              "    }\n",
              "\n",
              "    .colab-df-convert {\n",
              "      background-color: #E8F0FE;\n",
              "      border: none;\n",
              "      border-radius: 50%;\n",
              "      cursor: pointer;\n",
              "      display: none;\n",
              "      fill: #1967D2;\n",
              "      height: 32px;\n",
              "      padding: 0 0 0 0;\n",
              "      width: 32px;\n",
              "    }\n",
              "\n",
              "    .colab-df-convert:hover {\n",
              "      background-color: #E2EBFA;\n",
              "      box-shadow: 0px 1px 2px rgba(60, 64, 67, 0.3), 0px 1px 3px 1px rgba(60, 64, 67, 0.15);\n",
              "      fill: #174EA6;\n",
              "    }\n",
              "\n",
              "    [theme=dark] .colab-df-convert {\n",
              "      background-color: #3B4455;\n",
              "      fill: #D2E3FC;\n",
              "    }\n",
              "\n",
              "    [theme=dark] .colab-df-convert:hover {\n",
              "      background-color: #434B5C;\n",
              "      box-shadow: 0px 1px 3px 1px rgba(0, 0, 0, 0.15);\n",
              "      filter: drop-shadow(0px 1px 2px rgba(0, 0, 0, 0.3));\n",
              "      fill: #FFFFFF;\n",
              "    }\n",
              "  </style>\n",
              "\n",
              "      <script>\n",
              "        const buttonEl =\n",
              "          document.querySelector('#df-bcbac941-797e-4668-bb34-105df591b5bf button.colab-df-convert');\n",
              "        buttonEl.style.display =\n",
              "          google.colab.kernel.accessAllowed ? 'block' : 'none';\n",
              "\n",
              "        async function convertToInteractive(key) {\n",
              "          const element = document.querySelector('#df-bcbac941-797e-4668-bb34-105df591b5bf');\n",
              "          const dataTable =\n",
              "            await google.colab.kernel.invokeFunction('convertToInteractive',\n",
              "                                                     [key], {});\n",
              "          if (!dataTable) return;\n",
              "\n",
              "          const docLinkHtml = 'Like what you see? Visit the ' +\n",
              "            '<a target=\"_blank\" href=https://colab.research.google.com/notebooks/data_table.ipynb>data table notebook</a>'\n",
              "            + ' to learn more about interactive tables.';\n",
              "          element.innerHTML = '';\n",
              "          dataTable['output_type'] = 'display_data';\n",
              "          await google.colab.output.renderOutput(dataTable, element);\n",
              "          const docLink = document.createElement('div');\n",
              "          docLink.innerHTML = docLinkHtml;\n",
              "          element.appendChild(docLink);\n",
              "        }\n",
              "      </script>\n",
              "    </div>\n",
              "  </div>\n",
              "  "
            ]
          },
          "metadata": {},
          "execution_count": 135
        }
      ]
    },
    {
      "cell_type": "markdown",
      "source": [
        "##3. ¿Cómo se compone la tasa de atraso por destino, aerolínea, mes del año, día de la semana, temporada, tipo de vuelo?"
      ],
      "metadata": {
        "id": "KR4uPu6VjVUS"
      }
    },
    {
      "cell_type": "code",
      "source": [
        "#tasa de atraso total\n",
        "tasa_atraso=100*(sum(df.atraso_15)/len(df.atraso_15))\n",
        "print(\"Total de Vuelos:\", len(df.atraso_15))\n",
        "print(\"Total de Vuelos Atrasados:\", sum(df.atraso_15))\n",
        "print(\"Tasa de Atraso Total:\",tasa_atraso)"
      ],
      "metadata": {
        "colab": {
          "base_uri": "https://localhost:8080/"
        },
        "id": "naZilsmUjf_S",
        "outputId": "784c0643-b8ce-40d3-c96f-6a460b2656cc"
      },
      "execution_count": 136,
      "outputs": [
        {
          "output_type": "stream",
          "name": "stdout",
          "text": [
            "Total de Vuelos: 68206\n",
            "Total de Vuelos Atrasados: 12614\n",
            "Tasa de Atraso Total: 18.493974137172682\n"
          ]
        }
      ]
    },
    {
      "cell_type": "code",
      "source": [
        "atrasoxciia = df.groupby(['OPERA']).agg({'atraso_15': ['sum', 'count']})\n",
        "atrasoxciia = atrasoxciia.rename({'sum': 'Vuelos Atrasados'}, axis=1)\n",
        "atrasoxciia = atrasoxciia.rename({'count': 'Vuelos Totales'}, axis=1)\n",
        "atrasoxciia.columns = atrasoxciia.columns.droplevel()\n",
        "atrasoxciia[\"Tasa de Atraso\"] = 100*(atrasoxciia['Vuelos Atrasados']/atrasoxciia['Vuelos Totales'])\n",
        "atrasoxciia.sort_values(by=['Tasa de Atraso'], inplace=True , ascending=False)\n",
        "print(atrasoxciia)"
      ],
      "metadata": {
        "colab": {
          "base_uri": "https://localhost:8080/"
        },
        "id": "Ozd2dQuHlz0I",
        "outputId": "acd21571-9fa4-47cb-a9d0-187d6071fec9"
      },
      "execution_count": 137,
      "outputs": [
        {
          "output_type": "stream",
          "name": "stdout",
          "text": [
            "                          Vuelos Atrasados  Vuelos Totales  Tasa de Atraso\n",
            "OPERA                                                                     \n",
            "Plus Ultra Lineas Aereas                30              49       61.224490\n",
            "Qantas Airways                         113             195       57.948718\n",
            "Air Canada                             258             565       45.663717\n",
            "Latin American Wings                   681            1674       40.681004\n",
            "Gol Trans                              287             806       35.607940\n",
            "Avianca                                306            1152       26.562500\n",
            "Aerolineas Argentinas                  468            1949       24.012314\n",
            "Austral                                 15              74       20.270270\n",
            "JetSmart SPA                           196            1095       17.899543\n",
            "Grupo LATAM                           7306           40892       17.866575\n",
            "Sky Airline                           2540           14298       17.764722\n",
            "Oceanair Linhas Aereas                  43             279       15.412186\n",
            "British Airways                         29             205       14.146341\n",
            "Lacsa                                   11              92       11.956522\n",
            "Alitalia                                29             259       11.196911\n",
            "Iberia                                  36             362        9.944751\n",
            "Air France                              30             358        8.379888\n",
            "K.L.M.                                  21             251        8.366534\n",
            "American Airlines                       51             757        6.737120\n",
            "Copa Air                               116            1850        6.270270\n",
            "Delta Air                               21             358        5.865922\n",
            "United Airlines                         17             335        5.074627\n",
            "Aeromexico                              10             351        2.849003\n"
          ]
        }
      ]
    },
    {
      "cell_type": "code",
      "source": [
        "atrasoxdes = df.groupby(['Des-O']).agg({'atraso_15': ['sum', 'count']})\n",
        "atrasoxdes = atrasoxdes.rename({'sum': 'Vuelos Atrasados'}, axis=1)\n",
        "atrasoxdes = atrasoxdes.rename({'count': 'Vuelos Totales'}, axis=1)\n",
        "atrasoxdes.columns = atrasoxdes.columns.droplevel()\n",
        "atrasoxdes[\"Tasa de Atraso\"] = 100*(atrasoxdes['Vuelos Atrasados']/atrasoxdes['Vuelos Totales'])\n",
        "atrasoxdes.sort_values(by=['Tasa de Atraso'], inplace=True , ascending=False)\n",
        "print(atrasoxdes.head(10))"
      ],
      "metadata": {
        "colab": {
          "base_uri": "https://localhost:8080/"
        },
        "id": "1KHBw6-bjanL",
        "outputId": "bad0336a-ae46-4307-fdbd-c8849c0cbbd2"
      },
      "execution_count": 138,
      "outputs": [
        {
          "output_type": "stream",
          "name": "stdout",
          "text": [
            "       Vuelos Atrasados  Vuelos Totales  Tasa de Atraso\n",
            "Des-O                                                  \n",
            "EGYP                  1               1      100.000000\n",
            "SLCB                  1               1      100.000000\n",
            "SEQM                  2               2      100.000000\n",
            "SAWH                  4               6       66.666667\n",
            "YSSY                113             194       58.247423\n",
            "YMML                 21              39       53.846154\n",
            "SAZS                  1               2       50.000000\n",
            "SAAR                 54             136       39.705882\n",
            "NZAA                135             361       37.396122\n",
            "MDPC                 18              54       33.333333\n"
          ]
        }
      ]
    },
    {
      "cell_type": "code",
      "source": [
        "atrasoxmes = df.groupby(['MES']).agg({'atraso_15': ['sum', 'count']})\n",
        "atrasoxmes = atrasoxmes.rename({'sum': 'Vuelos Atrasados'}, axis=1)\n",
        "atrasoxmes = atrasoxmes.rename({'count': 'Vuelos Totales'}, axis=1)\n",
        "atrasoxmes.columns = atrasoxmes.columns.droplevel()\n",
        "atrasoxmes[\"Tasa de Atraso\"] = 100*(atrasoxmes['Vuelos Atrasados']/atrasoxmes['Vuelos Totales'])\n",
        "atrasoxmes.sort_values(by=['Tasa de Atraso'], inplace=True , ascending=False)\n",
        "print(atrasoxmes)"
      ],
      "metadata": {
        "colab": {
          "base_uri": "https://localhost:8080/"
        },
        "id": "3YhOeL5lrMVb",
        "outputId": "915f8a37-9da9-48a1-c1ef-d976b1df9ae4"
      },
      "execution_count": 139,
      "outputs": [
        {
          "output_type": "stream",
          "name": "stdout",
          "text": [
            "     Vuelos Atrasados  Vuelos Totales  Tasa de Atraso\n",
            "MES                                                  \n",
            "7                1758            5992       29.339119\n",
            "12               1615            6356       25.409062\n",
            "10               1363            6032       22.596154\n",
            "11               1199            6080       19.720395\n",
            "8                 996            5744       17.339833\n",
            "9                 967            5610       17.237077\n",
            "6                 852            4981       17.104999\n",
            "1                 978            6108       16.011788\n",
            "5                 827            5240       15.782443\n",
            "2                 843            5561       15.159144\n",
            "4                 585            5020       11.653386\n",
            "3                 631            5482       11.510398\n"
          ]
        }
      ]
    },
    {
      "cell_type": "code",
      "source": [
        "atrasoxdia = df.groupby(['DIANOM']).agg({'atraso_15': ['sum', 'count']})\n",
        "atrasoxdia = atrasoxdia.rename({'sum': 'Vuelos Atrasados'}, axis=1)\n",
        "atrasoxdia = atrasoxdia.rename({'count': 'Vuelos Totales'}, axis=1)\n",
        "atrasoxdia.columns = atrasoxdia.columns.droplevel()\n",
        "atrasoxdia[\"Tasa de Atraso\"] = 100*(atrasoxdia['Vuelos Atrasados']/atrasoxdia['Vuelos Totales'])\n",
        "atrasoxdia.sort_values(by=['Tasa de Atraso'], inplace=True , ascending=False)\n",
        "print(atrasoxdia)"
      ],
      "metadata": {
        "colab": {
          "base_uri": "https://localhost:8080/"
        },
        "id": "CS62dkNIrsVd",
        "outputId": "ebaa4db6-fb7f-4fa5-9984-7a636c1f7a31"
      },
      "execution_count": 141,
      "outputs": [
        {
          "output_type": "stream",
          "name": "stdout",
          "text": [
            "           Vuelos Atrasados  Vuelos Totales  Tasa de Atraso\n",
            "DIANOM                                                     \n",
            "Viernes                2285           10292       22.201710\n",
            "Lunes                  2048           10131       20.215181\n",
            "Jueves                 2045           10251       19.949273\n",
            "Miercoles              1661            9722       17.084962\n",
            "Martes                 1634            9662       16.911613\n",
            "Sabado                 1363            8352       16.319444\n",
            "Domingo                1578            9796       16.108616\n"
          ]
        }
      ]
    },
    {
      "cell_type": "code",
      "source": [
        "atrasoxtemporada = df.groupby(['Temporada_Alta']).agg({'atraso_15': ['sum', 'count']})\n",
        "atrasoxtemporada = atrasoxtemporada.rename({'sum': 'Vuelos Atrasados'}, axis=1)\n",
        "atrasoxtemporada = atrasoxtemporada.rename({'count': 'Vuelos Totales'}, axis=1)\n",
        "atrasoxtemporada.columns = atrasoxtemporada.columns.droplevel()\n",
        "atrasoxtemporada[\"Tasa de Atraso\"] = 100*(atrasoxtemporada['Vuelos Atrasados']/atrasoxtemporada['Vuelos Totales'])\n",
        "atrasoxtemporada.sort_values(by=['Tasa de Atraso'], inplace=True , ascending=False)\n",
        "print(atrasoxtemporada)"
      ],
      "metadata": {
        "colab": {
          "base_uri": "https://localhost:8080/"
        },
        "id": "q72wj0bsr4FT",
        "outputId": "ea13e50b-5b6a-4397-e4d3-47f895270588"
      },
      "execution_count": 142,
      "outputs": [
        {
          "output_type": "stream",
          "name": "stdout",
          "text": [
            "                Vuelos Atrasados  Vuelos Totales  Tasa de Atraso\n",
            "Temporada_Alta                                                  \n",
            "1                           2563           10516       24.372385\n",
            "0                          10051           57690       17.422430\n"
          ]
        }
      ]
    },
    {
      "cell_type": "code",
      "source": [
        "atraso_tipo_vuelo = df.groupby(['TIPOVUELO']).agg({'atraso_15': ['sum', 'count']})\n",
        "atraso_tipo_vuelo = atraso_tipo_vuelo.rename({'sum': 'Vuelos Atrasados'}, axis=1)\n",
        "atraso_tipo_vuelo = atraso_tipo_vuelo.rename({'count': 'Vuelos Totales'}, axis=1)\n",
        "atraso_tipo_vuelo.columns = atraso_tipo_vuelo.columns.droplevel()\n",
        "atraso_tipo_vuelo[\"Tasa de Atraso\"] = 100*(atraso_tipo_vuelo['Vuelos Atrasados']/atraso_tipo_vuelo['Vuelos Totales'])\n",
        "atraso_tipo_vuelo.sort_values(by=['Tasa de Atraso'], inplace=True , ascending=False)\n",
        "print(atraso_tipo_vuelo)"
      ],
      "metadata": {
        "colab": {
          "base_uri": "https://localhost:8080/"
        },
        "id": "n14vjWMMr5hM",
        "outputId": "056fd866-e582-45bc-b47d-5577ff84046a"
      },
      "execution_count": 143,
      "outputs": [
        {
          "output_type": "stream",
          "name": "stdout",
          "text": [
            "           Vuelos Atrasados  Vuelos Totales  Tasa de Atraso\n",
            "TIPOVUELO                                                  \n",
            "I                      7048           31240       22.560819\n",
            "N                      5566           36966       15.057079\n"
          ]
        }
      ]
    },
    {
      "cell_type": "markdown",
      "source": [
        "##4. Entrena uno o varios modelos (usando el/los algoritmo(s) que prefieras) para estimar la probabilidad de atraso de un vuelo. Siéntete libre de generar variables adicionales y/o complementar con variables externas."
      ],
      "metadata": {
        "id": "GflAWbdH4ovA"
      }
    },
    {
      "cell_type": "code",
      "source": [
        "import seaborn as sns\n",
        "from sklearn.model_selection import train_test_split\n",
        "from sklearn.preprocessing import StandardScaler\n",
        "from sklearn.linear_model import LogisticRegression\n",
        "from sklearn.metrics import confusion_matrix, classification_report\n",
        "from sklearn.model_selection import train_test_split\n",
        "from sklearn.preprocessing import MinMaxScaler\n",
        "from sklearn.metrics import confusion_matrix\n",
        "from sklearn.metrics import plot_confusion_matrix\n",
        "from sklearn.tree import DecisionTreeClassifier\n",
        "from sklearn.linear_model import LinearRegression\n",
        "from sklearn.metrics import mean_squared_error\n",
        "from sklearn.metrics import mean_absolute_error\n",
        "from sklearn.metrics import r2_score\n",
        "from sklearn.tree import DecisionTreeRegressor\n",
        "from sklearn.ensemble import GradientBoostingRegressor\n",
        "from sklearn.ensemble import GradientBoostingClassifier\n",
        "from sklearn.ensemble import ExtraTreesRegressor\n",
        "from sklearn.ensemble import RandomForestRegressor\n",
        "from sklearn.ensemble import RandomForestClassifier\n",
        "from sklearn.ensemble import ExtraTreesClassifier"
      ],
      "metadata": {
        "id": "UvC2ANH-6Jn4"
      },
      "execution_count": 144,
      "outputs": []
    },
    {
      "cell_type": "code",
      "source": [
        "df.tail()"
      ],
      "metadata": {
        "colab": {
          "base_uri": "https://localhost:8080/",
          "height": 461
        },
        "id": "rtVEGthO7AAP",
        "outputId": "a663b78d-466f-41ca-9a12-7b09a3d0faed"
      },
      "execution_count": 145,
      "outputs": [
        {
          "output_type": "execute_result",
          "data": {
            "text/plain": [
              "                  Fecha-I Vlo-I Ori-I Des-I Emp-I             Fecha-O  Vlo-O  \\\n",
              "68201 2017-12-22 14:55:00   400  SCEL  SPJC   JAT 2017-12-22 15:41:00  400.0   \n",
              "68202 2017-12-25 14:55:00   400  SCEL  SPJC   JAT 2017-12-25 15:11:00  400.0   \n",
              "68203 2017-12-27 14:55:00   400  SCEL  SPJC   JAT 2017-12-27 15:35:00  400.0   \n",
              "68204 2017-12-29 14:55:00   400  SCEL  SPJC   JAT 2017-12-29 15:08:00  400.0   \n",
              "68205 2017-12-31 14:55:00   400  SCEL  SPJC   JAT 2017-12-31 15:04:00  400.0   \n",
              "\n",
              "      Ori-O Des-O Emp-O  DIA  MES   AÑO     DIANOM TIPOVUELO         OPERA  \\\n",
              "68201  SCEL  SPJC   JAT   22   12  2017    Viernes         I  JetSmart SPA   \n",
              "68202  SCEL  SPJC   JAT   25   12  2017      Lunes         I  JetSmart SPA   \n",
              "68203  SCEL  SPJC   JAT   27   12  2017  Miercoles         I  JetSmart SPA   \n",
              "68204  SCEL  SPJC   JAT   29   12  2017    Viernes         I  JetSmart SPA   \n",
              "68205  SCEL  SPJC   JAT   31   12  2017    Domingo         I  JetSmart SPA   \n",
              "\n",
              "       SIGLAORI SIGLADES        date  Temporada_Alta  dif_min  atraso_15  \\\n",
              "68201  Santiago     Lima  2017-12-22               1     46.0          1   \n",
              "68202  Santiago     Lima  2017-12-25               1     16.0          1   \n",
              "68203  Santiago     Lima  2017-12-27               1     40.0          1   \n",
              "68204  Santiago     Lima  2017-12-29               1     13.0          0   \n",
              "68205  Santiago     Lima  2017-12-31               1      9.0          0   \n",
              "\n",
              "      periodo_dia  \n",
              "68201       tarde  \n",
              "68202       tarde  \n",
              "68203       tarde  \n",
              "68204       tarde  \n",
              "68205       tarde  "
            ],
            "text/html": [
              "\n",
              "  <div id=\"df-ab2e1abd-6c4e-4198-9226-98607a885173\">\n",
              "    <div class=\"colab-df-container\">\n",
              "      <div>\n",
              "<style scoped>\n",
              "    .dataframe tbody tr th:only-of-type {\n",
              "        vertical-align: middle;\n",
              "    }\n",
              "\n",
              "    .dataframe tbody tr th {\n",
              "        vertical-align: top;\n",
              "    }\n",
              "\n",
              "    .dataframe thead th {\n",
              "        text-align: right;\n",
              "    }\n",
              "</style>\n",
              "<table border=\"1\" class=\"dataframe\">\n",
              "  <thead>\n",
              "    <tr style=\"text-align: right;\">\n",
              "      <th></th>\n",
              "      <th>Fecha-I</th>\n",
              "      <th>Vlo-I</th>\n",
              "      <th>Ori-I</th>\n",
              "      <th>Des-I</th>\n",
              "      <th>Emp-I</th>\n",
              "      <th>Fecha-O</th>\n",
              "      <th>Vlo-O</th>\n",
              "      <th>Ori-O</th>\n",
              "      <th>Des-O</th>\n",
              "      <th>Emp-O</th>\n",
              "      <th>DIA</th>\n",
              "      <th>MES</th>\n",
              "      <th>AÑO</th>\n",
              "      <th>DIANOM</th>\n",
              "      <th>TIPOVUELO</th>\n",
              "      <th>OPERA</th>\n",
              "      <th>SIGLAORI</th>\n",
              "      <th>SIGLADES</th>\n",
              "      <th>date</th>\n",
              "      <th>Temporada_Alta</th>\n",
              "      <th>dif_min</th>\n",
              "      <th>atraso_15</th>\n",
              "      <th>periodo_dia</th>\n",
              "    </tr>\n",
              "  </thead>\n",
              "  <tbody>\n",
              "    <tr>\n",
              "      <th>68201</th>\n",
              "      <td>2017-12-22 14:55:00</td>\n",
              "      <td>400</td>\n",
              "      <td>SCEL</td>\n",
              "      <td>SPJC</td>\n",
              "      <td>JAT</td>\n",
              "      <td>2017-12-22 15:41:00</td>\n",
              "      <td>400.0</td>\n",
              "      <td>SCEL</td>\n",
              "      <td>SPJC</td>\n",
              "      <td>JAT</td>\n",
              "      <td>22</td>\n",
              "      <td>12</td>\n",
              "      <td>2017</td>\n",
              "      <td>Viernes</td>\n",
              "      <td>I</td>\n",
              "      <td>JetSmart SPA</td>\n",
              "      <td>Santiago</td>\n",
              "      <td>Lima</td>\n",
              "      <td>2017-12-22</td>\n",
              "      <td>1</td>\n",
              "      <td>46.0</td>\n",
              "      <td>1</td>\n",
              "      <td>tarde</td>\n",
              "    </tr>\n",
              "    <tr>\n",
              "      <th>68202</th>\n",
              "      <td>2017-12-25 14:55:00</td>\n",
              "      <td>400</td>\n",
              "      <td>SCEL</td>\n",
              "      <td>SPJC</td>\n",
              "      <td>JAT</td>\n",
              "      <td>2017-12-25 15:11:00</td>\n",
              "      <td>400.0</td>\n",
              "      <td>SCEL</td>\n",
              "      <td>SPJC</td>\n",
              "      <td>JAT</td>\n",
              "      <td>25</td>\n",
              "      <td>12</td>\n",
              "      <td>2017</td>\n",
              "      <td>Lunes</td>\n",
              "      <td>I</td>\n",
              "      <td>JetSmart SPA</td>\n",
              "      <td>Santiago</td>\n",
              "      <td>Lima</td>\n",
              "      <td>2017-12-25</td>\n",
              "      <td>1</td>\n",
              "      <td>16.0</td>\n",
              "      <td>1</td>\n",
              "      <td>tarde</td>\n",
              "    </tr>\n",
              "    <tr>\n",
              "      <th>68203</th>\n",
              "      <td>2017-12-27 14:55:00</td>\n",
              "      <td>400</td>\n",
              "      <td>SCEL</td>\n",
              "      <td>SPJC</td>\n",
              "      <td>JAT</td>\n",
              "      <td>2017-12-27 15:35:00</td>\n",
              "      <td>400.0</td>\n",
              "      <td>SCEL</td>\n",
              "      <td>SPJC</td>\n",
              "      <td>JAT</td>\n",
              "      <td>27</td>\n",
              "      <td>12</td>\n",
              "      <td>2017</td>\n",
              "      <td>Miercoles</td>\n",
              "      <td>I</td>\n",
              "      <td>JetSmart SPA</td>\n",
              "      <td>Santiago</td>\n",
              "      <td>Lima</td>\n",
              "      <td>2017-12-27</td>\n",
              "      <td>1</td>\n",
              "      <td>40.0</td>\n",
              "      <td>1</td>\n",
              "      <td>tarde</td>\n",
              "    </tr>\n",
              "    <tr>\n",
              "      <th>68204</th>\n",
              "      <td>2017-12-29 14:55:00</td>\n",
              "      <td>400</td>\n",
              "      <td>SCEL</td>\n",
              "      <td>SPJC</td>\n",
              "      <td>JAT</td>\n",
              "      <td>2017-12-29 15:08:00</td>\n",
              "      <td>400.0</td>\n",
              "      <td>SCEL</td>\n",
              "      <td>SPJC</td>\n",
              "      <td>JAT</td>\n",
              "      <td>29</td>\n",
              "      <td>12</td>\n",
              "      <td>2017</td>\n",
              "      <td>Viernes</td>\n",
              "      <td>I</td>\n",
              "      <td>JetSmart SPA</td>\n",
              "      <td>Santiago</td>\n",
              "      <td>Lima</td>\n",
              "      <td>2017-12-29</td>\n",
              "      <td>1</td>\n",
              "      <td>13.0</td>\n",
              "      <td>0</td>\n",
              "      <td>tarde</td>\n",
              "    </tr>\n",
              "    <tr>\n",
              "      <th>68205</th>\n",
              "      <td>2017-12-31 14:55:00</td>\n",
              "      <td>400</td>\n",
              "      <td>SCEL</td>\n",
              "      <td>SPJC</td>\n",
              "      <td>JAT</td>\n",
              "      <td>2017-12-31 15:04:00</td>\n",
              "      <td>400.0</td>\n",
              "      <td>SCEL</td>\n",
              "      <td>SPJC</td>\n",
              "      <td>JAT</td>\n",
              "      <td>31</td>\n",
              "      <td>12</td>\n",
              "      <td>2017</td>\n",
              "      <td>Domingo</td>\n",
              "      <td>I</td>\n",
              "      <td>JetSmart SPA</td>\n",
              "      <td>Santiago</td>\n",
              "      <td>Lima</td>\n",
              "      <td>2017-12-31</td>\n",
              "      <td>1</td>\n",
              "      <td>9.0</td>\n",
              "      <td>0</td>\n",
              "      <td>tarde</td>\n",
              "    </tr>\n",
              "  </tbody>\n",
              "</table>\n",
              "</div>\n",
              "      <button class=\"colab-df-convert\" onclick=\"convertToInteractive('df-ab2e1abd-6c4e-4198-9226-98607a885173')\"\n",
              "              title=\"Convert this dataframe to an interactive table.\"\n",
              "              style=\"display:none;\">\n",
              "        \n",
              "  <svg xmlns=\"http://www.w3.org/2000/svg\" height=\"24px\"viewBox=\"0 0 24 24\"\n",
              "       width=\"24px\">\n",
              "    <path d=\"M0 0h24v24H0V0z\" fill=\"none\"/>\n",
              "    <path d=\"M18.56 5.44l.94 2.06.94-2.06 2.06-.94-2.06-.94-.94-2.06-.94 2.06-2.06.94zm-11 1L8.5 8.5l.94-2.06 2.06-.94-2.06-.94L8.5 2.5l-.94 2.06-2.06.94zm10 10l.94 2.06.94-2.06 2.06-.94-2.06-.94-.94-2.06-.94 2.06-2.06.94z\"/><path d=\"M17.41 7.96l-1.37-1.37c-.4-.4-.92-.59-1.43-.59-.52 0-1.04.2-1.43.59L10.3 9.45l-7.72 7.72c-.78.78-.78 2.05 0 2.83L4 21.41c.39.39.9.59 1.41.59.51 0 1.02-.2 1.41-.59l7.78-7.78 2.81-2.81c.8-.78.8-2.07 0-2.86zM5.41 20L4 18.59l7.72-7.72 1.47 1.35L5.41 20z\"/>\n",
              "  </svg>\n",
              "      </button>\n",
              "      \n",
              "  <style>\n",
              "    .colab-df-container {\n",
              "      display:flex;\n",
              "      flex-wrap:wrap;\n",
              "      gap: 12px;\n",
              "    }\n",
              "\n",
              "    .colab-df-convert {\n",
              "      background-color: #E8F0FE;\n",
              "      border: none;\n",
              "      border-radius: 50%;\n",
              "      cursor: pointer;\n",
              "      display: none;\n",
              "      fill: #1967D2;\n",
              "      height: 32px;\n",
              "      padding: 0 0 0 0;\n",
              "      width: 32px;\n",
              "    }\n",
              "\n",
              "    .colab-df-convert:hover {\n",
              "      background-color: #E2EBFA;\n",
              "      box-shadow: 0px 1px 2px rgba(60, 64, 67, 0.3), 0px 1px 3px 1px rgba(60, 64, 67, 0.15);\n",
              "      fill: #174EA6;\n",
              "    }\n",
              "\n",
              "    [theme=dark] .colab-df-convert {\n",
              "      background-color: #3B4455;\n",
              "      fill: #D2E3FC;\n",
              "    }\n",
              "\n",
              "    [theme=dark] .colab-df-convert:hover {\n",
              "      background-color: #434B5C;\n",
              "      box-shadow: 0px 1px 3px 1px rgba(0, 0, 0, 0.15);\n",
              "      filter: drop-shadow(0px 1px 2px rgba(0, 0, 0, 0.3));\n",
              "      fill: #FFFFFF;\n",
              "    }\n",
              "  </style>\n",
              "\n",
              "      <script>\n",
              "        const buttonEl =\n",
              "          document.querySelector('#df-ab2e1abd-6c4e-4198-9226-98607a885173 button.colab-df-convert');\n",
              "        buttonEl.style.display =\n",
              "          google.colab.kernel.accessAllowed ? 'block' : 'none';\n",
              "\n",
              "        async function convertToInteractive(key) {\n",
              "          const element = document.querySelector('#df-ab2e1abd-6c4e-4198-9226-98607a885173');\n",
              "          const dataTable =\n",
              "            await google.colab.kernel.invokeFunction('convertToInteractive',\n",
              "                                                     [key], {});\n",
              "          if (!dataTable) return;\n",
              "\n",
              "          const docLinkHtml = 'Like what you see? Visit the ' +\n",
              "            '<a target=\"_blank\" href=https://colab.research.google.com/notebooks/data_table.ipynb>data table notebook</a>'\n",
              "            + ' to learn more about interactive tables.';\n",
              "          element.innerHTML = '';\n",
              "          dataTable['output_type'] = 'display_data';\n",
              "          await google.colab.output.renderOutput(dataTable, element);\n",
              "          const docLink = document.createElement('div');\n",
              "          docLink.innerHTML = docLinkHtml;\n",
              "          element.appendChild(docLink);\n",
              "        }\n",
              "      </script>\n",
              "    </div>\n",
              "  </div>\n",
              "  "
            ]
          },
          "metadata": {},
          "execution_count": 145
        }
      ]
    },
    {
      "cell_type": "code",
      "source": [
        "#dataset con variables relevantes solamente\n",
        "df2 = df.drop([\"Fecha-I\", \"Vlo-I\", \"Ori-I\",\n",
        "               \"Des-I\", \"Emp-I\", \"Fecha-O\",\n",
        "               \"Vlo-I\", \"Ori-O\", \"Des-O\", \n",
        "               \"Emp-O\",\"SIGLAORI\", \"Vlo-O\", \"date\", 'dif_min', \"DIA\", \"MES\", \"AÑO\", \"OPERA\"], axis=1)"
      ],
      "metadata": {
        "id": "Pz2mk0oP7c9I"
      },
      "execution_count": 158,
      "outputs": []
    },
    {
      "cell_type": "code",
      "source": [
        "df2.tail(10)"
      ],
      "metadata": {
        "id": "fijmUY928pI0",
        "colab": {
          "base_uri": "https://localhost:8080/",
          "height": 363
        },
        "outputId": "c84035d9-9441-4e34-c81a-5f092e0e127b"
      },
      "execution_count": 159,
      "outputs": [
        {
          "output_type": "execute_result",
          "data": {
            "text/plain": [
              "          DIANOM TIPOVUELO      SIGLADES  Temporada_Alta  atraso_15  \\\n",
              "68196      Lunes         N  Punta Arenas               1          0   \n",
              "68197     Sabado         N  Punta Arenas               1          0   \n",
              "68198    Viernes         N  Punta Arenas               1          1   \n",
              "68199    Viernes         N  Punta Arenas               1          0   \n",
              "68200  Miercoles         I          Lima               1          1   \n",
              "68201    Viernes         I          Lima               1          1   \n",
              "68202      Lunes         I          Lima               1          1   \n",
              "68203  Miercoles         I          Lima               1          1   \n",
              "68204    Viernes         I          Lima               1          0   \n",
              "68205    Domingo         I          Lima               1          0   \n",
              "\n",
              "      periodo_dia  \n",
              "68196       noche  \n",
              "68197       noche  \n",
              "68198       tarde  \n",
              "68199       tarde  \n",
              "68200       tarde  \n",
              "68201       tarde  \n",
              "68202       tarde  \n",
              "68203       tarde  \n",
              "68204       tarde  \n",
              "68205       tarde  "
            ],
            "text/html": [
              "\n",
              "  <div id=\"df-d75428f9-4ad0-4f04-bda4-7683625df839\">\n",
              "    <div class=\"colab-df-container\">\n",
              "      <div>\n",
              "<style scoped>\n",
              "    .dataframe tbody tr th:only-of-type {\n",
              "        vertical-align: middle;\n",
              "    }\n",
              "\n",
              "    .dataframe tbody tr th {\n",
              "        vertical-align: top;\n",
              "    }\n",
              "\n",
              "    .dataframe thead th {\n",
              "        text-align: right;\n",
              "    }\n",
              "</style>\n",
              "<table border=\"1\" class=\"dataframe\">\n",
              "  <thead>\n",
              "    <tr style=\"text-align: right;\">\n",
              "      <th></th>\n",
              "      <th>DIANOM</th>\n",
              "      <th>TIPOVUELO</th>\n",
              "      <th>SIGLADES</th>\n",
              "      <th>Temporada_Alta</th>\n",
              "      <th>atraso_15</th>\n",
              "      <th>periodo_dia</th>\n",
              "    </tr>\n",
              "  </thead>\n",
              "  <tbody>\n",
              "    <tr>\n",
              "      <th>68196</th>\n",
              "      <td>Lunes</td>\n",
              "      <td>N</td>\n",
              "      <td>Punta Arenas</td>\n",
              "      <td>1</td>\n",
              "      <td>0</td>\n",
              "      <td>noche</td>\n",
              "    </tr>\n",
              "    <tr>\n",
              "      <th>68197</th>\n",
              "      <td>Sabado</td>\n",
              "      <td>N</td>\n",
              "      <td>Punta Arenas</td>\n",
              "      <td>1</td>\n",
              "      <td>0</td>\n",
              "      <td>noche</td>\n",
              "    </tr>\n",
              "    <tr>\n",
              "      <th>68198</th>\n",
              "      <td>Viernes</td>\n",
              "      <td>N</td>\n",
              "      <td>Punta Arenas</td>\n",
              "      <td>1</td>\n",
              "      <td>1</td>\n",
              "      <td>tarde</td>\n",
              "    </tr>\n",
              "    <tr>\n",
              "      <th>68199</th>\n",
              "      <td>Viernes</td>\n",
              "      <td>N</td>\n",
              "      <td>Punta Arenas</td>\n",
              "      <td>1</td>\n",
              "      <td>0</td>\n",
              "      <td>tarde</td>\n",
              "    </tr>\n",
              "    <tr>\n",
              "      <th>68200</th>\n",
              "      <td>Miercoles</td>\n",
              "      <td>I</td>\n",
              "      <td>Lima</td>\n",
              "      <td>1</td>\n",
              "      <td>1</td>\n",
              "      <td>tarde</td>\n",
              "    </tr>\n",
              "    <tr>\n",
              "      <th>68201</th>\n",
              "      <td>Viernes</td>\n",
              "      <td>I</td>\n",
              "      <td>Lima</td>\n",
              "      <td>1</td>\n",
              "      <td>1</td>\n",
              "      <td>tarde</td>\n",
              "    </tr>\n",
              "    <tr>\n",
              "      <th>68202</th>\n",
              "      <td>Lunes</td>\n",
              "      <td>I</td>\n",
              "      <td>Lima</td>\n",
              "      <td>1</td>\n",
              "      <td>1</td>\n",
              "      <td>tarde</td>\n",
              "    </tr>\n",
              "    <tr>\n",
              "      <th>68203</th>\n",
              "      <td>Miercoles</td>\n",
              "      <td>I</td>\n",
              "      <td>Lima</td>\n",
              "      <td>1</td>\n",
              "      <td>1</td>\n",
              "      <td>tarde</td>\n",
              "    </tr>\n",
              "    <tr>\n",
              "      <th>68204</th>\n",
              "      <td>Viernes</td>\n",
              "      <td>I</td>\n",
              "      <td>Lima</td>\n",
              "      <td>1</td>\n",
              "      <td>0</td>\n",
              "      <td>tarde</td>\n",
              "    </tr>\n",
              "    <tr>\n",
              "      <th>68205</th>\n",
              "      <td>Domingo</td>\n",
              "      <td>I</td>\n",
              "      <td>Lima</td>\n",
              "      <td>1</td>\n",
              "      <td>0</td>\n",
              "      <td>tarde</td>\n",
              "    </tr>\n",
              "  </tbody>\n",
              "</table>\n",
              "</div>\n",
              "      <button class=\"colab-df-convert\" onclick=\"convertToInteractive('df-d75428f9-4ad0-4f04-bda4-7683625df839')\"\n",
              "              title=\"Convert this dataframe to an interactive table.\"\n",
              "              style=\"display:none;\">\n",
              "        \n",
              "  <svg xmlns=\"http://www.w3.org/2000/svg\" height=\"24px\"viewBox=\"0 0 24 24\"\n",
              "       width=\"24px\">\n",
              "    <path d=\"M0 0h24v24H0V0z\" fill=\"none\"/>\n",
              "    <path d=\"M18.56 5.44l.94 2.06.94-2.06 2.06-.94-2.06-.94-.94-2.06-.94 2.06-2.06.94zm-11 1L8.5 8.5l.94-2.06 2.06-.94-2.06-.94L8.5 2.5l-.94 2.06-2.06.94zm10 10l.94 2.06.94-2.06 2.06-.94-2.06-.94-.94-2.06-.94 2.06-2.06.94z\"/><path d=\"M17.41 7.96l-1.37-1.37c-.4-.4-.92-.59-1.43-.59-.52 0-1.04.2-1.43.59L10.3 9.45l-7.72 7.72c-.78.78-.78 2.05 0 2.83L4 21.41c.39.39.9.59 1.41.59.51 0 1.02-.2 1.41-.59l7.78-7.78 2.81-2.81c.8-.78.8-2.07 0-2.86zM5.41 20L4 18.59l7.72-7.72 1.47 1.35L5.41 20z\"/>\n",
              "  </svg>\n",
              "      </button>\n",
              "      \n",
              "  <style>\n",
              "    .colab-df-container {\n",
              "      display:flex;\n",
              "      flex-wrap:wrap;\n",
              "      gap: 12px;\n",
              "    }\n",
              "\n",
              "    .colab-df-convert {\n",
              "      background-color: #E8F0FE;\n",
              "      border: none;\n",
              "      border-radius: 50%;\n",
              "      cursor: pointer;\n",
              "      display: none;\n",
              "      fill: #1967D2;\n",
              "      height: 32px;\n",
              "      padding: 0 0 0 0;\n",
              "      width: 32px;\n",
              "    }\n",
              "\n",
              "    .colab-df-convert:hover {\n",
              "      background-color: #E2EBFA;\n",
              "      box-shadow: 0px 1px 2px rgba(60, 64, 67, 0.3), 0px 1px 3px 1px rgba(60, 64, 67, 0.15);\n",
              "      fill: #174EA6;\n",
              "    }\n",
              "\n",
              "    [theme=dark] .colab-df-convert {\n",
              "      background-color: #3B4455;\n",
              "      fill: #D2E3FC;\n",
              "    }\n",
              "\n",
              "    [theme=dark] .colab-df-convert:hover {\n",
              "      background-color: #434B5C;\n",
              "      box-shadow: 0px 1px 3px 1px rgba(0, 0, 0, 0.15);\n",
              "      filter: drop-shadow(0px 1px 2px rgba(0, 0, 0, 0.3));\n",
              "      fill: #FFFFFF;\n",
              "    }\n",
              "  </style>\n",
              "\n",
              "      <script>\n",
              "        const buttonEl =\n",
              "          document.querySelector('#df-d75428f9-4ad0-4f04-bda4-7683625df839 button.colab-df-convert');\n",
              "        buttonEl.style.display =\n",
              "          google.colab.kernel.accessAllowed ? 'block' : 'none';\n",
              "\n",
              "        async function convertToInteractive(key) {\n",
              "          const element = document.querySelector('#df-d75428f9-4ad0-4f04-bda4-7683625df839');\n",
              "          const dataTable =\n",
              "            await google.colab.kernel.invokeFunction('convertToInteractive',\n",
              "                                                     [key], {});\n",
              "          if (!dataTable) return;\n",
              "\n",
              "          const docLinkHtml = 'Like what you see? Visit the ' +\n",
              "            '<a target=\"_blank\" href=https://colab.research.google.com/notebooks/data_table.ipynb>data table notebook</a>'\n",
              "            + ' to learn more about interactive tables.';\n",
              "          element.innerHTML = '';\n",
              "          dataTable['output_type'] = 'display_data';\n",
              "          await google.colab.output.renderOutput(dataTable, element);\n",
              "          const docLink = document.createElement('div');\n",
              "          docLink.innerHTML = docLinkHtml;\n",
              "          element.appendChild(docLink);\n",
              "        }\n",
              "      </script>\n",
              "    </div>\n",
              "  </div>\n",
              "  "
            ]
          },
          "metadata": {},
          "execution_count": 159
        }
      ]
    },
    {
      "cell_type": "code",
      "source": [
        "df2=pd.get_dummies(df2,columns=['DIANOM', 'TIPOVUELO','SIGLADES', 'periodo_dia'])"
      ],
      "metadata": {
        "id": "m7TvErA5Z8-A"
      },
      "execution_count": 160,
      "outputs": []
    },
    {
      "cell_type": "markdown",
      "source": [
        "#Entrenando Modelos"
      ],
      "metadata": {
        "id": "dickoYOo5GSL"
      }
    },
    {
      "cell_type": "code",
      "source": [
        "X=df2.drop(['atraso_15'], axis=1)\n",
        "y=df2['atraso_15']\n",
        "X_train, X_test, y_train, y_test = train_test_split(X, y, random_state = 123,\n",
        "                                                    train_size=0.7)"
      ],
      "metadata": {
        "id": "FY0eOWQ05bo4"
      },
      "execution_count": 161,
      "outputs": []
    },
    {
      "cell_type": "code",
      "source": [
        "scaler = MinMaxScaler()\n",
        "X_train_scaled = scaler.fit_transform(X_train)\n",
        "# we must apply the scaling to the test set that we computed for the training set\n",
        "X_test_scaled = scaler.transform(X_test)"
      ],
      "metadata": {
        "id": "Ah6wrZG25Oyl"
      },
      "execution_count": 162,
      "outputs": []
    },
    {
      "cell_type": "markdown",
      "source": [
        "##Regresion Logistica"
      ],
      "metadata": {
        "id": "hSWlThkIbhQG"
      }
    },
    {
      "cell_type": "code",
      "source": [
        "model_LR = LogisticRegression()\n",
        "model_LR.fit(X_train, y_train)\n",
        "model_LR_pred = model_LR.predict(X_test)\n",
        "importances_LR = pd.DataFrame(data={\n",
        "    'Attribute': X_train.columns,\n",
        "    'Importance': model_LR.coef_[0]\n",
        "})\n",
        "importances_LR = importances_LR.sort_values(by='Importance', ascending=False)\n",
        "model_LR_acc = model_LR.score(X_test, y_test)\n",
        "print(classification_report(y_test, model_LR_pred))\n",
        "conf_mat_plot = plot_confusion_matrix(model_LR, X_test, y_test)\n",
        "plt.title(\"Logistic Regression\")\n",
        "plt.xticks(np.arange(2) , [\"A Tiempo\", \"Atrasado\"])\n",
        "plt.yticks(np.arange(2) , [\"A Tiempo\", \"Atrasado\"])\n",
        "print(conf_mat_plot)\n",
        "print(importances_LR.head(10))"
      ],
      "metadata": {
        "colab": {
          "base_uri": "https://localhost:8080/",
          "height": 661
        },
        "id": "qVkeGjaxYeAh",
        "outputId": "df0aebd3-4ad9-49bc-eb61-88fb40764903"
      },
      "execution_count": 192,
      "outputs": [
        {
          "output_type": "stream",
          "name": "stdout",
          "text": [
            "              precision    recall  f1-score   support\n",
            "\n",
            "           0       0.82      1.00      0.90     16678\n",
            "           1       0.54      0.01      0.02      3784\n",
            "\n",
            "    accuracy                           0.82     20462\n",
            "   macro avg       0.68      0.50      0.46     20462\n",
            "weighted avg       0.76      0.82      0.74     20462\n",
            "\n",
            "<sklearn.metrics._plot.confusion_matrix.ConfusionMatrixDisplay object at 0x7f873353ac90>\n",
            "                  Attribute  Importance\n",
            "65          SIGLADES_Sydney    1.655438\n",
            "42       SIGLADES_Melbourne    1.370234\n",
            "69          SIGLADES_Ushuia    1.201529\n",
            "61         SIGLADES_Rosario    1.035458\n",
            "56      SIGLADES_Punta Cana    0.947951\n",
            "54  SIGLADES_Puerto Stanley    0.570439\n",
            "62  SIGLADES_San Juan, Arg.    0.558486\n",
            "25      SIGLADES_Cochabamba    0.543055\n",
            "28         SIGLADES_Cordoba    0.531494\n",
            "14   SIGLADES_Auckland N.Z.    0.527660\n"
          ]
        },
        {
          "output_type": "display_data",
          "data": {
            "text/plain": [
              "<Figure size 432x288 with 2 Axes>"
            ],
            "image/png": "[encoded data removed]"
          },
          "metadata": {
            "needs_background": "light"
          }
        }
      ]
    },
    {
      "cell_type": "markdown",
      "source": [
        "##Decision Tree Classifier"
      ],
      "metadata": {
        "id": "V0pyjGaBbkKC"
      }
    },
    {
      "cell_type": "code",
      "source": [
        "model_TC = DecisionTreeClassifier()\n",
        "model_TC.fit(X_train, y_train)\n",
        "#model_TC.fit(X_train_scaled, y_train)\n",
        "model_TC_pred = model_TC.predict(X_test)\n",
        "importances_TC = pd.DataFrame(data={\n",
        "    'Attribute': X_train.columns,\n",
        "    'Importance': model_TC.feature_importances_\n",
        "})\n",
        "importances_TC = importances_TC.sort_values(by='Importance', ascending=False)\n",
        "print(classification_report(y_test, model_TC_pred))\n",
        "conf_mat_plot = plot_confusion_matrix(model_TC, X_test, y_test)\n",
        "plt.title(\"Decision Tree Classifier\")\n",
        "plt.xticks(np.arange(2) , [\"A Tiempo\", \"Atrasado\"])\n",
        "plt.yticks(np.arange(2) , [\"A Tiempo\", \"Atrasado\"])\n",
        "print(conf_mat_plot)\n",
        "print(importances_TC.head(10))"
      ],
      "metadata": {
        "colab": {
          "base_uri": "https://localhost:8080/",
          "height": 661
        },
        "id": "4Pn2Gryta8oL",
        "outputId": "33d6061d-fa5c-4c28-d0bb-31cf64344c24"
      },
      "execution_count": 199,
      "outputs": [
        {
          "output_type": "stream",
          "name": "stdout",
          "text": [
            "              precision    recall  f1-score   support\n",
            "\n",
            "           0       0.82      0.99      0.90     16678\n",
            "           1       0.49      0.03      0.06      3784\n",
            "\n",
            "    accuracy                           0.81     20462\n",
            "   macro avg       0.65      0.51      0.48     20462\n",
            "weighted avg       0.76      0.81      0.74     20462\n",
            "\n",
            "<sklearn.metrics._plot.confusion_matrix.ConfusionMatrixDisplay object at 0x7f873422bb10>\n",
            "                    Attribute  Importance\n",
            "8                 TIPOVUELO_I    0.116446\n",
            "24  SIGLADES_Ciudad de Panama    0.066865\n",
            "73          periodo_dia_noche    0.055110\n",
            "0              Temporada_Alta    0.047896\n",
            "7              DIANOM_Viernes    0.041632\n",
            "2               DIANOM_Jueves    0.037216\n",
            "3                DIANOM_Lunes    0.034885\n",
            "5            DIANOM_Miercoles    0.034585\n",
            "65            SIGLADES_Sydney    0.032515\n",
            "1              DIANOM_Domingo    0.032262\n"
          ]
        },
        {
          "output_type": "display_data",
          "data": {
            "text/plain": [
              "<Figure size 432x288 with 2 Axes>"
            ],
            "image/png": "[encoded data removed]"
          },
          "metadata": {
            "needs_background": "light"
          }
        }
      ]
    },
    {
      "cell_type": "markdown",
      "source": [
        "##XGBoost"
      ],
      "metadata": {
        "id": "t7nKtxfjboYx"
      }
    },
    {
      "cell_type": "code",
      "source": [
        "model_XGB = GradientBoostingClassifier()\n",
        "model_XGB.fit(X_train, y_train)\n",
        "#model_XGB.fit(X_train_scaled, y_train)\n",
        "model_XGB_pred = model_XGB.predict(X_test)\n",
        "\n",
        "importances_XGB = pd.DataFrame(data={\n",
        "    'Attribute': X_train.columns,\n",
        "    'Importance': model_XGB.feature_importances_\n",
        "})\n",
        "print(classification_report(y_test, model_XGB_pred))\n",
        "conf_mat_plot = plot_confusion_matrix(model_XGB, X_test, y_test)\n",
        "plt.title(\"Gradient Boosting Classifier (XGBoost)\")\n",
        "plt.xticks(np.arange(2) , [\"A Tiempo\", \"Atrasado\"])\n",
        "plt.yticks(np.arange(2) , [\"A Tiempo\", \"Atrasado\"])\n",
        "print(conf_mat_plot)\n",
        "print(importances_XGB.head(10))"
      ],
      "metadata": {
        "colab": {
          "base_uri": "https://localhost:8080/",
          "height": 661
        },
        "id": "kSgOlZGSboJ1",
        "outputId": "a450659d-69c4-48db-9a94-4dc2762940fa"
      },
      "execution_count": 210,
      "outputs": [
        {
          "output_type": "stream",
          "name": "stdout",
          "text": [
            "              precision    recall  f1-score   support\n",
            "\n",
            "           0       0.82      1.00      0.90     16678\n",
            "           1       0.50      0.01      0.01      3784\n",
            "\n",
            "    accuracy                           0.82     20462\n",
            "   macro avg       0.66      0.50      0.46     20462\n",
            "weighted avg       0.76      0.82      0.73     20462\n",
            "\n",
            "<sklearn.metrics._plot.confusion_matrix.ConfusionMatrixDisplay object at 0x7f873342dd50>\n",
            "          Attribute  Importance\n",
            "0    Temporada_Alta    0.082296\n",
            "1    DIANOM_Domingo    0.016534\n",
            "2     DIANOM_Jueves    0.026091\n",
            "3      DIANOM_Lunes    0.034231\n",
            "4     DIANOM_Martes    0.002122\n",
            "5  DIANOM_Miercoles    0.009194\n",
            "6     DIANOM_Sabado    0.016969\n",
            "7    DIANOM_Viernes    0.028766\n",
            "8       TIPOVUELO_I    0.111759\n",
            "9       TIPOVUELO_N    0.094544\n"
          ]
        },
        {
          "output_type": "display_data",
          "data": {
            "text/plain": [
              "<Figure size 432x288 with 2 Axes>"
            ],
            "image/png": "[encoded data removed]"
          },
          "metadata": {
            "needs_background": "light"
          }
        }
      ]
    },
    {
      "cell_type": "markdown",
      "source": [
        "##Random Forest"
      ],
      "metadata": {
        "id": "lA0bRx55cI-6"
      }
    },
    {
      "cell_type": "code",
      "source": [
        "model_RF = RandomForestClassifier()\n",
        "model_RF.fit(X_train, y_train)\n",
        "#model_RF.fit(X_train_scaled, y_train)\n",
        "model_RF_pred = model_RF.predict(X_test)\n",
        "importances_RF = pd.DataFrame(data={\n",
        "    'Attribute': X_train.columns,\n",
        "    'Importance': model_RF.feature_importances_\n",
        "})\n",
        "print(classification_report(y_test, model_RF_pred))\n",
        "conf_mat_plot = plot_confusion_matrix(model_RF, X_test, y_test)\n",
        "plt.xticks(np.arange(2) , [\"A Tiempo\", \"Atrasado\"])\n",
        "plt.yticks(np.arange(2) , [\"A Tiempo\", \"Atrasado\"])\n",
        "plt.title(\"Random Forest Classifier\")\n",
        "print(conf_mat_plot)\n",
        "print(importances_RF.head(10))"
      ],
      "metadata": {
        "colab": {
          "base_uri": "https://localhost:8080/",
          "height": 661
        },
        "id": "9EgLlvrUcILO",
        "outputId": "6700620c-1587-43af-a10c-0f2032fb60d5"
      },
      "execution_count": 197,
      "outputs": [
        {
          "output_type": "stream",
          "name": "stdout",
          "text": [
            "              precision    recall  f1-score   support\n",
            "\n",
            "           0       0.82      0.99      0.90     16678\n",
            "           1       0.47      0.04      0.07      3784\n",
            "\n",
            "    accuracy                           0.81     20462\n",
            "   macro avg       0.65      0.51      0.48     20462\n",
            "weighted avg       0.76      0.81      0.74     20462\n",
            "\n",
            "<sklearn.metrics._plot.confusion_matrix.ConfusionMatrixDisplay object at 0x7f8733621350>\n",
            "          Attribute  Importance\n",
            "0    Temporada_Alta    0.085822\n",
            "1    DIANOM_Domingo    0.034450\n",
            "2     DIANOM_Jueves    0.034188\n",
            "3      DIANOM_Lunes    0.038705\n",
            "4     DIANOM_Martes    0.029972\n",
            "5  DIANOM_Miercoles    0.032415\n",
            "6     DIANOM_Sabado    0.036855\n",
            "7    DIANOM_Viernes    0.032305\n",
            "8       TIPOVUELO_I    0.034976\n",
            "9       TIPOVUELO_N    0.035246\n"
          ]
        },
        {
          "output_type": "display_data",
          "data": {
            "text/plain": [
              "<Figure size 432x288 with 2 Axes>"
            ],
            "image/png": "[encoded data removed]"
          },
          "metadata": {
            "needs_background": "light"
          }
        }
      ]
    },
    {
      "cell_type": "markdown",
      "source": [
        "##Extra Trees Classifier"
      ],
      "metadata": {
        "id": "Iw5r48q0cdb2"
      }
    },
    {
      "cell_type": "code",
      "source": [
        "model_ETC = ExtraTreesClassifier()\n",
        "model_ETC.fit(X_train, y_train)\n",
        "#model_ETC.fit(X_train_scaled, y_train)\n",
        "model_ETC_pred = model_ETC.predict(X_test)\n",
        "importances_ETC = pd.DataFrame(data={\n",
        "    'Attribute': X_train.columns,\n",
        "    'Importance': model_ETC.feature_importances_\n",
        "})\n",
        "\n",
        "# print(confusion_matrix(y_test, model_ETC_pred))\n",
        "print(classification_report(y_test, model_ETC_pred))\n",
        "conf_mat_plot = plot_confusion_matrix(model_ETC, X_test, y_test)\n",
        "plt.xticks(np.arange(2) , [\"A Tiempo\", \"Atrasado\"])\n",
        "plt.yticks(np.arange(2) , [\"A Tiempo\", \"Atrasado\"])\n",
        "plt.title(\"Extra Trees Classifier\")\n",
        "print(conf_mat_plot)\n",
        "print(importances_ETC.head(10))"
      ],
      "metadata": {
        "colab": {
          "base_uri": "https://localhost:8080/",
          "height": 661
        },
        "id": "mhmrZlFvcdzW",
        "outputId": "7098d087-7c36-4b42-bbdf-3c365654d1dc"
      },
      "execution_count": 200,
      "outputs": [
        {
          "output_type": "stream",
          "name": "stdout",
          "text": [
            "              precision    recall  f1-score   support\n",
            "\n",
            "           0       0.82      0.99      0.90     16678\n",
            "           1       0.49      0.03      0.06      3784\n",
            "\n",
            "    accuracy                           0.81     20462\n",
            "   macro avg       0.65      0.51      0.48     20462\n",
            "weighted avg       0.76      0.81      0.74     20462\n",
            "\n",
            "<sklearn.metrics._plot.confusion_matrix.ConfusionMatrixDisplay object at 0x7f87335e9510>\n",
            "          Attribute  Importance\n",
            "0    Temporada_Alta    0.080094\n",
            "1    DIANOM_Domingo    0.033686\n",
            "2     DIANOM_Jueves    0.029899\n",
            "3      DIANOM_Lunes    0.036113\n",
            "4     DIANOM_Martes    0.024030\n",
            "5  DIANOM_Miercoles    0.027979\n",
            "6     DIANOM_Sabado    0.032476\n",
            "7    DIANOM_Viernes    0.030529\n",
            "8       TIPOVUELO_I    0.040117\n",
            "9       TIPOVUELO_N    0.050671\n"
          ]
        },
        {
          "output_type": "display_data",
          "data": {
            "text/plain": [
              "<Figure size 432x288 with 2 Axes>"
            ],
            "image/png": "[encoded data removed]"
          },
          "metadata": {
            "needs_background": "light"
          }
        }
      ]
    },
    {
      "cell_type": "code",
      "source": [
        "perf_df = pd.DataFrame(columns=[\"Regressors\", \"MSE\", \"RMSE\", \"MAE\", \"R2\"])\n",
        "def print_metrics(labels_test, model_pred, regressor_name, perf_df):\n",
        "    \n",
        "    mse = mean_squared_error(labels_test, model_pred)\n",
        "    rmse = np.sqrt(mse)\n",
        "    mae = mean_absolute_error(labels_test, model_pred)\n",
        "    r2 = r2_score(labels_test, model_pred)\n",
        "    \n",
        "    print(f\"MSE      : {mse}\", end=\"\\n\\n\")\n",
        "    print(f\"RMSE     : {rmse}\", end=\"\\n\\n\")\n",
        "    print(f\"MAE      : {mae}\", end=\"\\n\\n\")\n",
        "    print(f\"R2 Score : {r2}\", end=\"\\n\\n\")\n",
        "    \n",
        "    perf_df = perf_df.append({\"Regressors\": regressor_name,\n",
        "                                        \"MSE\": mse, \n",
        "                                        \"RMSE\": rmse,\n",
        "                                        \"MAE\": mae,\n",
        "                                        \"R2\": r2}, ignore_index=True)\n",
        "    return perf_df"
      ],
      "metadata": {
        "id": "C4ONcLbNjUZi"
      },
      "execution_count": 73,
      "outputs": []
    },
    {
      "cell_type": "code",
      "source": [
        "df3 = df.drop([\"Fecha-I\", \"Vlo-I\", \"Ori-I\",\n",
        "               \"Des-I\", \"Emp-I\", \"Fecha-O\",\n",
        "               \"Vlo-I\", \"Ori-O\", \"Des-O\", \n",
        "               \"Emp-O\",\"SIGLAORI\", \"Vlo-O\", \"date\", 'atraso_15'], axis=1)"
      ],
      "metadata": {
        "id": "m5cLLCaFkxBO"
      },
      "execution_count": 74,
      "outputs": []
    },
    {
      "cell_type": "markdown",
      "source": [
        "##5. Evalúa tu modelo. ¿Qué performance tiene? ¿Qué métricas usaste para evaluar esa performance y por qué? ¿Por qué\n",
        "elegiste ese algoritmo en particular? ¿Qué variables son las que más influyen en la predicción? ¿Cómo podrías mejorar la\n",
        "performance?"
      ],
      "metadata": {
        "id": "ygWjgKApkTjq"
      }
    },
    {
      "cell_type": "markdown",
      "source": [
        "1. Para evaluar el modelo me basare en el accuracy, en la presicion, en recall y F1-Score.\n",
        "\n",
        "2. Todos los modelos utilizados tienen un buen desempeno con un acuracy sobre 80%.\n",
        "\n",
        "3. Se Utilizaron estos algoritmos dado que es una variable dicotomica y queremos estimar la probabilidad de retraso."
      ],
      "metadata": {
        "id": "sTnwhNUA_3lf"
      }
    },
    {
      "cell_type": "code",
      "source": [
        "print(print(\"\\n Regresion Logistica:\\n\",classification_report(y_test, model_LR_pred)))\n",
        "print(print(\"\\n Decision Tree Classifier:\\n\",classification_report(y_test, model_TC_pred)))\n",
        "print(print(\"\\n XGBoost:\\n\",classification_report(y_test, model_XGB_pred)))\n",
        "print(print(\"\\n Random Forest:\\n\",classification_report(y_test, model_RF_pred)))\n",
        "print(print(\"\\n Extra Trees Classifier:\\n\",classification_report(y_test, model_ETC_pred)))"
      ],
      "metadata": {
        "colab": {
          "base_uri": "https://localhost:8080/"
        },
        "id": "EIedTZeR8KY9",
        "outputId": "cb1067a0-4e85-4dba-edc9-0e9687389751"
      },
      "execution_count": 215,
      "outputs": [
        {
          "output_type": "stream",
          "name": "stdout",
          "text": [
            "\n",
            " Regresion Logistica:\n",
            "               precision    recall  f1-score   support\n",
            "\n",
            "           0       0.82      1.00      0.90     16678\n",
            "           1       0.54      0.01      0.02      3784\n",
            "\n",
            "    accuracy                           0.82     20462\n",
            "   macro avg       0.68      0.50      0.46     20462\n",
            "weighted avg       0.76      0.82      0.74     20462\n",
            "\n",
            "None\n",
            "\n",
            " Decision Tree Classifier:\n",
            "               precision    recall  f1-score   support\n",
            "\n",
            "           0       0.82      0.99      0.90     16678\n",
            "           1       0.49      0.03      0.06      3784\n",
            "\n",
            "    accuracy                           0.81     20462\n",
            "   macro avg       0.65      0.51      0.48     20462\n",
            "weighted avg       0.76      0.81      0.74     20462\n",
            "\n",
            "None\n",
            "\n",
            " XGBoost:\n",
            "               precision    recall  f1-score   support\n",
            "\n",
            "           0       0.82      1.00      0.90     16678\n",
            "           1       0.50      0.01      0.01      3784\n",
            "\n",
            "    accuracy                           0.82     20462\n",
            "   macro avg       0.66      0.50      0.46     20462\n",
            "weighted avg       0.76      0.82      0.73     20462\n",
            "\n",
            "None\n",
            "\n",
            " Random Forest:\n",
            "               precision    recall  f1-score   support\n",
            "\n",
            "           0       0.82      0.99      0.90     16678\n",
            "           1       0.47      0.04      0.07      3784\n",
            "\n",
            "    accuracy                           0.81     20462\n",
            "   macro avg       0.65      0.51      0.48     20462\n",
            "weighted avg       0.76      0.81      0.74     20462\n",
            "\n",
            "None\n",
            "\n",
            " Extra Trees Classifier:\n",
            "               precision    recall  f1-score   support\n",
            "\n",
            "           0       0.82      0.99      0.90     16678\n",
            "           1       0.49      0.03      0.06      3784\n",
            "\n",
            "    accuracy                           0.81     20462\n",
            "   macro avg       0.65      0.51      0.48     20462\n",
            "weighted avg       0.76      0.81      0.74     20462\n",
            "\n",
            "None\n"
          ]
        }
      ]
    },
    {
      "cell_type": "markdown",
      "source": [
        "4. En general las variables mas relevantes son el destino del vuelo, el dia de la semana (lunes, martes.., etc), si el vuelo es en temporada alta o no y en que momento del dia es vuelo (manana, tarde, noche). Dependiendo del modelo tamnbien gana importancia el tipo de vuelo (nacional o internacional). Esto se puede ver en la tabla mas abajo.\n"
      ],
      "metadata": {
        "id": "GwiZ1dIsCDI7"
      }
    },
    {
      "cell_type": "code",
      "source": [
        "print(\"\\n Features mas importante Regresion Logistica:\\n\", \"\\n\",importances_LR.head(10))\n",
        "print(\"\\n Features mas importante Decision Tree Classifier :\\n\", \"\\n\",importances_TC.head(10))\n",
        "print(\"\\n Features mas importante XGBoost :\\n\", \"\\n\",importances_XGB.head(10))\n",
        "print(\"\\n Features mas importante Random Forest :\\n\", \"\\n\",importances_RF.head(10))\n",
        "print(\"\\n Extra Trees Classifier:\\n\", \"\\n\", importances_ETC.head(10))"
      ],
      "metadata": {
        "colab": {
          "base_uri": "https://localhost:8080/"
        },
        "id": "Y02H0h51-YTj",
        "outputId": "35bb245d-7421-4d8f-e122-a08e5cf6f820"
      },
      "execution_count": 214,
      "outputs": [
        {
          "output_type": "stream",
          "name": "stdout",
          "text": [
            "\n",
            " Features mas importante Regresion Logistica:\n",
            " \n",
            "                   Attribute  Importance\n",
            "65          SIGLADES_Sydney    1.655438\n",
            "42       SIGLADES_Melbourne    1.370234\n",
            "69          SIGLADES_Ushuia    1.201529\n",
            "61         SIGLADES_Rosario    1.035458\n",
            "56      SIGLADES_Punta Cana    0.947951\n",
            "54  SIGLADES_Puerto Stanley    0.570439\n",
            "62  SIGLADES_San Juan, Arg.    0.558486\n",
            "25      SIGLADES_Cochabamba    0.543055\n",
            "28         SIGLADES_Cordoba    0.531494\n",
            "14   SIGLADES_Auckland N.Z.    0.527660\n",
            "\n",
            " Features mas importante Decision Tree Classifier :\n",
            " \n",
            "                     Attribute  Importance\n",
            "8                 TIPOVUELO_I    0.116446\n",
            "24  SIGLADES_Ciudad de Panama    0.066865\n",
            "73          periodo_dia_noche    0.055110\n",
            "0              Temporada_Alta    0.047896\n",
            "7              DIANOM_Viernes    0.041632\n",
            "2               DIANOM_Jueves    0.037216\n",
            "3                DIANOM_Lunes    0.034885\n",
            "5            DIANOM_Miercoles    0.034585\n",
            "65            SIGLADES_Sydney    0.032515\n",
            "1              DIANOM_Domingo    0.032262\n",
            "\n",
            " Features mas importante XGBoost :\n",
            " \n",
            "           Attribute  Importance\n",
            "0    Temporada_Alta    0.082296\n",
            "1    DIANOM_Domingo    0.016534\n",
            "2     DIANOM_Jueves    0.026091\n",
            "3      DIANOM_Lunes    0.034231\n",
            "4     DIANOM_Martes    0.002122\n",
            "5  DIANOM_Miercoles    0.009194\n",
            "6     DIANOM_Sabado    0.016969\n",
            "7    DIANOM_Viernes    0.028766\n",
            "8       TIPOVUELO_I    0.111759\n",
            "9       TIPOVUELO_N    0.094544\n",
            "\n",
            " Features mas importante Random Forest :\n",
            " \n",
            "           Attribute  Importance\n",
            "0    Temporada_Alta    0.085822\n",
            "1    DIANOM_Domingo    0.034450\n",
            "2     DIANOM_Jueves    0.034188\n",
            "3      DIANOM_Lunes    0.038705\n",
            "4     DIANOM_Martes    0.029972\n",
            "5  DIANOM_Miercoles    0.032415\n",
            "6     DIANOM_Sabado    0.036855\n",
            "7    DIANOM_Viernes    0.032305\n",
            "8       TIPOVUELO_I    0.034976\n",
            "9       TIPOVUELO_N    0.035246\n",
            "\n",
            " Extra Trees Classifier:\n",
            " \n",
            "           Attribute  Importance\n",
            "0    Temporada_Alta    0.080094\n",
            "1    DIANOM_Domingo    0.033686\n",
            "2     DIANOM_Jueves    0.029899\n",
            "3      DIANOM_Lunes    0.036113\n",
            "4     DIANOM_Martes    0.024030\n",
            "5  DIANOM_Miercoles    0.027979\n",
            "6     DIANOM_Sabado    0.032476\n",
            "7    DIANOM_Viernes    0.030529\n",
            "8       TIPOVUELO_I    0.040117\n",
            "9       TIPOVUELO_N    0.050671\n"
          ]
        }
      ]
    },
    {
      "cell_type": "markdown",
      "source": [
        "5. Para mejorar el permance de los modelos podemos incluir varibales adicional como, por ejemplo, una prediccion o estimacion del clima."
      ],
      "metadata": {
        "id": "l0EOK4nqC8rf"
      }
    }
  ]
}